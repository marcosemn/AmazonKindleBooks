{
 "cells": [
  {
   "cell_type": "code",
   "execution_count": 2,
   "metadata": {},
   "outputs": [],
   "source": [
    "import numpy as np\n",
    "import pandas as pd\n",
    "import matplotlib.pyplot as plt\n",
    "from sklearn.model_selection import train_test_split\n",
    "from sklearn.metrics import roc_auc_score\n",
    "from sklearn.metrics import confusion_matrix\n",
    "from sklearn.ensemble import RandomForestClassifier\n",
    "from sklearn.naive_bayes import GaussianNB\n",
    "from sklearn.linear_model import LogisticRegression\n",
    "from sklearn.tree import DecisionTreeClassifier\n",
    "from sklearn.metrics import classification_report\n",
    "import seaborn as sns\n",
    "import warnings\n",
    "warnings.filterwarnings(\"ignore\")"
   ]
  },
  {
   "cell_type": "code",
   "execution_count": 74,
   "metadata": {},
   "outputs": [
    {
     "data": {
      "text/html": [
       "<div>\n",
       "<style scoped>\n",
       "    .dataframe tbody tr th:only-of-type {\n",
       "        vertical-align: middle;\n",
       "    }\n",
       "\n",
       "    .dataframe tbody tr th {\n",
       "        vertical-align: top;\n",
       "    }\n",
       "\n",
       "    .dataframe thead th {\n",
       "        text-align: right;\n",
       "    }\n",
       "</style>\n",
       "<table border=\"1\" class=\"dataframe\">\n",
       "  <thead>\n",
       "    <tr style=\"text-align: right;\">\n",
       "      <th></th>\n",
       "      <th>url</th>\n",
       "      <th>title</th>\n",
       "      <th>author</th>\n",
       "      <th>price</th>\n",
       "      <th>save</th>\n",
       "      <th>pages</th>\n",
       "      <th>description</th>\n",
       "      <th>size</th>\n",
       "      <th>publisher</th>\n",
       "      <th>language</th>\n",
       "      <th>text_to_speech</th>\n",
       "      <th>x_ray</th>\n",
       "      <th>lending</th>\n",
       "      <th>customer_reviews</th>\n",
       "      <th>stars</th>\n",
       "    </tr>\n",
       "  </thead>\n",
       "  <tbody>\n",
       "    <tr>\n",
       "      <th>0</th>\n",
       "      <td>http://www.amazon.com/How-Bartender-Bartending...</td>\n",
       "      <td>How to be a Bartender: Get a Bartending Job Wi...</td>\n",
       "      <td>Dave Allred</td>\n",
       "      <td>9.99</td>\n",
       "      <td>NaN</td>\n",
       "      <td>171.0</td>\n",
       "      <td>In his revolutionary new book, Dave Allred (Th...</td>\n",
       "      <td>249.0</td>\n",
       "      <td>NaN</td>\n",
       "      <td>English</td>\n",
       "      <td>Enabled</td>\n",
       "      <td>Not Enabled</td>\n",
       "      <td>Enabled</td>\n",
       "      <td>23.0</td>\n",
       "      <td>4.9</td>\n",
       "    </tr>\n",
       "    <tr>\n",
       "      <th>1</th>\n",
       "      <td>http://www.amazon.com/Raise-Bar-Action-Based-C...</td>\n",
       "      <td>Raise the Bar: An Action-Based Method for Maxi...</td>\n",
       "      <td>Jon Taffer</td>\n",
       "      <td>2.00</td>\n",
       "      <td>24.00</td>\n",
       "      <td>258.0</td>\n",
       "      <td>If thereâs anyone who can prevent a bar or r...</td>\n",
       "      <td>1427.0</td>\n",
       "      <td>Amazon Publishing</td>\n",
       "      <td>English</td>\n",
       "      <td>Enabled</td>\n",
       "      <td>Enabled</td>\n",
       "      <td>Enabled</td>\n",
       "      <td>80.0</td>\n",
       "      <td>4.7</td>\n",
       "    </tr>\n",
       "    <tr>\n",
       "      <th>2</th>\n",
       "      <td>http://www.amazon.com/The-Professional-Bartend...</td>\n",
       "      <td>The Professional Bartender's Handbook: A Recip...</td>\n",
       "      <td>Valerie Mellema</td>\n",
       "      <td>9.87</td>\n",
       "      <td>12.08</td>\n",
       "      <td>288.0</td>\n",
       "      <td>The Professional Bartenders Handbook is writte...</td>\n",
       "      <td>5643.0</td>\n",
       "      <td>Atlantic Publishing Group Inc.; illustrated ed...</td>\n",
       "      <td>English</td>\n",
       "      <td>Enabled</td>\n",
       "      <td>Not Enabled</td>\n",
       "      <td>Not Enabled</td>\n",
       "      <td>32.0</td>\n",
       "      <td>4.2</td>\n",
       "    </tr>\n",
       "    <tr>\n",
       "      <th>3</th>\n",
       "      <td>http://www.amazon.com/Double-Your-Tips-Jerry-M...</td>\n",
       "      <td>How to Double Your Tips [Kindle Edition]</td>\n",
       "      <td>Jerry Minchey</td>\n",
       "      <td>2.99</td>\n",
       "      <td>NaN</td>\n",
       "      <td>36.0</td>\n",
       "      <td>How to Double Your Tips (For every waitress, w...</td>\n",
       "      <td>98.0</td>\n",
       "      <td>Stony River Media</td>\n",
       "      <td>English</td>\n",
       "      <td>Enabled</td>\n",
       "      <td>Not Enabled</td>\n",
       "      <td>Enabled</td>\n",
       "      <td>6.0</td>\n",
       "      <td>4.5</td>\n",
       "    </tr>\n",
       "    <tr>\n",
       "      <th>4</th>\n",
       "      <td>http://www.amazon.com/The-Bartenders-Bible-Mix...</td>\n",
       "      <td>The Bartender's Bible: 1001 Mixed Drinks [Kind...</td>\n",
       "      <td>Gary Regan</td>\n",
       "      <td>5.99</td>\n",
       "      <td>2.00</td>\n",
       "      <td>400.0</td>\n",
       "      <td>Mix Drinks Like A Pro Now you can with this in...</td>\n",
       "      <td>647.0</td>\n",
       "      <td>HarperCollins e-books</td>\n",
       "      <td>English</td>\n",
       "      <td>Enabled</td>\n",
       "      <td>Not Enabled</td>\n",
       "      <td>Not Enabled</td>\n",
       "      <td>59.0</td>\n",
       "      <td>3.6</td>\n",
       "    </tr>\n",
       "  </tbody>\n",
       "</table>\n",
       "</div>"
      ],
      "text/plain": [
       "                                                 url  \\\n",
       "0  http://www.amazon.com/How-Bartender-Bartending...   \n",
       "1  http://www.amazon.com/Raise-Bar-Action-Based-C...   \n",
       "2  http://www.amazon.com/The-Professional-Bartend...   \n",
       "3  http://www.amazon.com/Double-Your-Tips-Jerry-M...   \n",
       "4  http://www.amazon.com/The-Bartenders-Bible-Mix...   \n",
       "\n",
       "                                               title           author  price  \\\n",
       "0  How to be a Bartender: Get a Bartending Job Wi...      Dave Allred   9.99   \n",
       "1  Raise the Bar: An Action-Based Method for Maxi...       Jon Taffer   2.00   \n",
       "2  The Professional Bartender's Handbook: A Recip...  Valerie Mellema   9.87   \n",
       "3           How to Double Your Tips [Kindle Edition]    Jerry Minchey   2.99   \n",
       "4  The Bartender's Bible: 1001 Mixed Drinks [Kind...       Gary Regan   5.99   \n",
       "\n",
       "    save  pages                                        description    size  \\\n",
       "0    NaN  171.0  In his revolutionary new book, Dave Allred (Th...   249.0   \n",
       "1  24.00  258.0  If thereâs anyone who can prevent a bar or r...  1427.0   \n",
       "2  12.08  288.0  The Professional Bartenders Handbook is writte...  5643.0   \n",
       "3    NaN   36.0  How to Double Your Tips (For every waitress, w...    98.0   \n",
       "4   2.00  400.0  Mix Drinks Like A Pro Now you can with this in...   647.0   \n",
       "\n",
       "                                           publisher language text_to_speech  \\\n",
       "0                                                NaN  English        Enabled   \n",
       "1                                  Amazon Publishing  English        Enabled   \n",
       "2  Atlantic Publishing Group Inc.; illustrated ed...  English        Enabled   \n",
       "3                                  Stony River Media  English        Enabled   \n",
       "4                              HarperCollins e-books  English        Enabled   \n",
       "\n",
       "         x_ray      lending  customer_reviews  stars  \n",
       "0  Not Enabled      Enabled              23.0    4.9  \n",
       "1      Enabled      Enabled              80.0    4.7  \n",
       "2  Not Enabled  Not Enabled              32.0    4.2  \n",
       "3  Not Enabled      Enabled               6.0    4.5  \n",
       "4  Not Enabled  Not Enabled              59.0    3.6  "
      ]
     },
     "execution_count": 74,
     "metadata": {},
     "output_type": "execute_result"
    }
   ],
   "source": [
    "df = pd.read_csv(r\"C:\\Users\\Dell\\Downloads\\BigML_Dataset.csv\",encoding='latin')\n",
    "df.head()"
   ]
  },
  {
   "cell_type": "code",
   "execution_count": 6,
   "metadata": {},
   "outputs": [
    {
     "data": {
      "text/html": [
       "<div>\n",
       "<style scoped>\n",
       "    .dataframe tbody tr th:only-of-type {\n",
       "        vertical-align: middle;\n",
       "    }\n",
       "\n",
       "    .dataframe tbody tr th {\n",
       "        vertical-align: top;\n",
       "    }\n",
       "\n",
       "    .dataframe thead th {\n",
       "        text-align: right;\n",
       "    }\n",
       "</style>\n",
       "<table border=\"1\" class=\"dataframe\">\n",
       "  <thead>\n",
       "    <tr style=\"text-align: right;\">\n",
       "      <th></th>\n",
       "      <th>price</th>\n",
       "      <th>pages</th>\n",
       "      <th>size</th>\n",
       "      <th>text_to_speech</th>\n",
       "      <th>x_ray</th>\n",
       "      <th>lending</th>\n",
       "      <th>customer_reviews</th>\n",
       "      <th>stars</th>\n",
       "    </tr>\n",
       "  </thead>\n",
       "  <tbody>\n",
       "    <tr>\n",
       "      <th>0</th>\n",
       "      <td>9.99</td>\n",
       "      <td>171.0</td>\n",
       "      <td>249.0</td>\n",
       "      <td>Enabled</td>\n",
       "      <td>Not Enabled</td>\n",
       "      <td>Enabled</td>\n",
       "      <td>23.0</td>\n",
       "      <td>4.9</td>\n",
       "    </tr>\n",
       "    <tr>\n",
       "      <th>1</th>\n",
       "      <td>2.00</td>\n",
       "      <td>258.0</td>\n",
       "      <td>1427.0</td>\n",
       "      <td>Enabled</td>\n",
       "      <td>Enabled</td>\n",
       "      <td>Enabled</td>\n",
       "      <td>80.0</td>\n",
       "      <td>4.7</td>\n",
       "    </tr>\n",
       "    <tr>\n",
       "      <th>2</th>\n",
       "      <td>9.87</td>\n",
       "      <td>288.0</td>\n",
       "      <td>5643.0</td>\n",
       "      <td>Enabled</td>\n",
       "      <td>Not Enabled</td>\n",
       "      <td>Not Enabled</td>\n",
       "      <td>32.0</td>\n",
       "      <td>4.2</td>\n",
       "    </tr>\n",
       "    <tr>\n",
       "      <th>3</th>\n",
       "      <td>2.99</td>\n",
       "      <td>36.0</td>\n",
       "      <td>98.0</td>\n",
       "      <td>Enabled</td>\n",
       "      <td>Not Enabled</td>\n",
       "      <td>Enabled</td>\n",
       "      <td>6.0</td>\n",
       "      <td>4.5</td>\n",
       "    </tr>\n",
       "    <tr>\n",
       "      <th>4</th>\n",
       "      <td>5.99</td>\n",
       "      <td>400.0</td>\n",
       "      <td>647.0</td>\n",
       "      <td>Enabled</td>\n",
       "      <td>Not Enabled</td>\n",
       "      <td>Not Enabled</td>\n",
       "      <td>59.0</td>\n",
       "      <td>3.6</td>\n",
       "    </tr>\n",
       "  </tbody>\n",
       "</table>\n",
       "</div>"
      ],
      "text/plain": [
       "   price  pages    size text_to_speech        x_ray      lending  \\\n",
       "0   9.99  171.0   249.0        Enabled  Not Enabled      Enabled   \n",
       "1   2.00  258.0  1427.0        Enabled      Enabled      Enabled   \n",
       "2   9.87  288.0  5643.0        Enabled  Not Enabled  Not Enabled   \n",
       "3   2.99   36.0    98.0        Enabled  Not Enabled      Enabled   \n",
       "4   5.99  400.0   647.0        Enabled  Not Enabled  Not Enabled   \n",
       "\n",
       "   customer_reviews  stars  \n",
       "0              23.0    4.9  \n",
       "1              80.0    4.7  \n",
       "2              32.0    4.2  \n",
       "3               6.0    4.5  \n",
       "4              59.0    3.6  "
      ]
     },
     "execution_count": 6,
     "metadata": {},
     "output_type": "execute_result"
    }
   ],
   "source": [
    "df.drop(['url','save','publisher','description','title','author','language'], axis='columns', inplace=True)\n",
    "df.head()"
   ]
  },
  {
   "cell_type": "code",
   "execution_count": 7,
   "metadata": {},
   "outputs": [
    {
     "data": {
      "text/plain": [
       "2901"
      ]
     },
     "execution_count": 7,
     "metadata": {},
     "output_type": "execute_result"
    }
   ],
   "source": [
    "len(df[df['stars']==5])"
   ]
  },
  {
   "cell_type": "code",
   "execution_count": 8,
   "metadata": {},
   "outputs": [
    {
     "data": {
      "text/html": [
       "<div>\n",
       "<style scoped>\n",
       "    .dataframe tbody tr th:only-of-type {\n",
       "        vertical-align: middle;\n",
       "    }\n",
       "\n",
       "    .dataframe tbody tr th {\n",
       "        vertical-align: top;\n",
       "    }\n",
       "\n",
       "    .dataframe thead th {\n",
       "        text-align: right;\n",
       "    }\n",
       "</style>\n",
       "<table border=\"1\" class=\"dataframe\">\n",
       "  <thead>\n",
       "    <tr style=\"text-align: right;\">\n",
       "      <th></th>\n",
       "      <th>price</th>\n",
       "      <th>pages</th>\n",
       "      <th>size</th>\n",
       "      <th>text_to_speech</th>\n",
       "      <th>x_ray</th>\n",
       "      <th>lending</th>\n",
       "      <th>customer_reviews</th>\n",
       "      <th>stars</th>\n",
       "      <th>dummy</th>\n",
       "    </tr>\n",
       "  </thead>\n",
       "  <tbody>\n",
       "    <tr>\n",
       "      <th>0</th>\n",
       "      <td>9.99</td>\n",
       "      <td>171.0</td>\n",
       "      <td>249.0</td>\n",
       "      <td>Enabled</td>\n",
       "      <td>Not Enabled</td>\n",
       "      <td>Enabled</td>\n",
       "      <td>23.0</td>\n",
       "      <td>4.9</td>\n",
       "      <td>0</td>\n",
       "    </tr>\n",
       "    <tr>\n",
       "      <th>1</th>\n",
       "      <td>2.00</td>\n",
       "      <td>258.0</td>\n",
       "      <td>1427.0</td>\n",
       "      <td>Enabled</td>\n",
       "      <td>Enabled</td>\n",
       "      <td>Enabled</td>\n",
       "      <td>80.0</td>\n",
       "      <td>4.7</td>\n",
       "      <td>0</td>\n",
       "    </tr>\n",
       "    <tr>\n",
       "      <th>2</th>\n",
       "      <td>9.87</td>\n",
       "      <td>288.0</td>\n",
       "      <td>5643.0</td>\n",
       "      <td>Enabled</td>\n",
       "      <td>Not Enabled</td>\n",
       "      <td>Not Enabled</td>\n",
       "      <td>32.0</td>\n",
       "      <td>4.2</td>\n",
       "      <td>0</td>\n",
       "    </tr>\n",
       "    <tr>\n",
       "      <th>3</th>\n",
       "      <td>2.99</td>\n",
       "      <td>36.0</td>\n",
       "      <td>98.0</td>\n",
       "      <td>Enabled</td>\n",
       "      <td>Not Enabled</td>\n",
       "      <td>Enabled</td>\n",
       "      <td>6.0</td>\n",
       "      <td>4.5</td>\n",
       "      <td>0</td>\n",
       "    </tr>\n",
       "    <tr>\n",
       "      <th>4</th>\n",
       "      <td>5.99</td>\n",
       "      <td>400.0</td>\n",
       "      <td>647.0</td>\n",
       "      <td>Enabled</td>\n",
       "      <td>Not Enabled</td>\n",
       "      <td>Not Enabled</td>\n",
       "      <td>59.0</td>\n",
       "      <td>3.6</td>\n",
       "      <td>0</td>\n",
       "    </tr>\n",
       "  </tbody>\n",
       "</table>\n",
       "</div>"
      ],
      "text/plain": [
       "   price  pages    size text_to_speech        x_ray      lending  \\\n",
       "0   9.99  171.0   249.0        Enabled  Not Enabled      Enabled   \n",
       "1   2.00  258.0  1427.0        Enabled      Enabled      Enabled   \n",
       "2   9.87  288.0  5643.0        Enabled  Not Enabled  Not Enabled   \n",
       "3   2.99   36.0    98.0        Enabled  Not Enabled      Enabled   \n",
       "4   5.99  400.0   647.0        Enabled  Not Enabled  Not Enabled   \n",
       "\n",
       "   customer_reviews  stars  dummy  \n",
       "0              23.0    4.9      0  \n",
       "1              80.0    4.7      0  \n",
       "2              32.0    4.2      0  \n",
       "3               6.0    4.5      0  \n",
       "4              59.0    3.6      0  "
      ]
     },
     "execution_count": 8,
     "metadata": {},
     "output_type": "execute_result"
    }
   ],
   "source": [
    "df['dummy'] = df['stars'].apply(lambda x: 1 if x==5 else 0)\n",
    "df.head()"
   ]
  },
  {
   "cell_type": "code",
   "execution_count": 9,
   "metadata": {},
   "outputs": [
    {
     "data": {
      "text/html": [
       "<div>\n",
       "<style scoped>\n",
       "    .dataframe tbody tr th:only-of-type {\n",
       "        vertical-align: middle;\n",
       "    }\n",
       "\n",
       "    .dataframe tbody tr th {\n",
       "        vertical-align: top;\n",
       "    }\n",
       "\n",
       "    .dataframe thead th {\n",
       "        text-align: right;\n",
       "    }\n",
       "</style>\n",
       "<table border=\"1\" class=\"dataframe\">\n",
       "  <thead>\n",
       "    <tr style=\"text-align: right;\">\n",
       "      <th></th>\n",
       "      <th>price</th>\n",
       "      <th>pages</th>\n",
       "      <th>size</th>\n",
       "      <th>customer_reviews</th>\n",
       "      <th>stars</th>\n",
       "      <th>dummy</th>\n",
       "      <th>text_to_speech_Enabled</th>\n",
       "      <th>text_to_speech_Not enabled</th>\n",
       "      <th>x_ray_Enabled</th>\n",
       "      <th>x_ray_Not Enabled</th>\n",
       "      <th>lending_Enabled</th>\n",
       "      <th>lending_Not Enabled</th>\n",
       "    </tr>\n",
       "  </thead>\n",
       "  <tbody>\n",
       "    <tr>\n",
       "      <th>0</th>\n",
       "      <td>9.99</td>\n",
       "      <td>171.0</td>\n",
       "      <td>249.0</td>\n",
       "      <td>23.0</td>\n",
       "      <td>4.9</td>\n",
       "      <td>0</td>\n",
       "      <td>1</td>\n",
       "      <td>0</td>\n",
       "      <td>0</td>\n",
       "      <td>1</td>\n",
       "      <td>1</td>\n",
       "      <td>0</td>\n",
       "    </tr>\n",
       "    <tr>\n",
       "      <th>1</th>\n",
       "      <td>2.00</td>\n",
       "      <td>258.0</td>\n",
       "      <td>1427.0</td>\n",
       "      <td>80.0</td>\n",
       "      <td>4.7</td>\n",
       "      <td>0</td>\n",
       "      <td>1</td>\n",
       "      <td>0</td>\n",
       "      <td>1</td>\n",
       "      <td>0</td>\n",
       "      <td>1</td>\n",
       "      <td>0</td>\n",
       "    </tr>\n",
       "    <tr>\n",
       "      <th>2</th>\n",
       "      <td>9.87</td>\n",
       "      <td>288.0</td>\n",
       "      <td>5643.0</td>\n",
       "      <td>32.0</td>\n",
       "      <td>4.2</td>\n",
       "      <td>0</td>\n",
       "      <td>1</td>\n",
       "      <td>0</td>\n",
       "      <td>0</td>\n",
       "      <td>1</td>\n",
       "      <td>0</td>\n",
       "      <td>1</td>\n",
       "    </tr>\n",
       "    <tr>\n",
       "      <th>3</th>\n",
       "      <td>2.99</td>\n",
       "      <td>36.0</td>\n",
       "      <td>98.0</td>\n",
       "      <td>6.0</td>\n",
       "      <td>4.5</td>\n",
       "      <td>0</td>\n",
       "      <td>1</td>\n",
       "      <td>0</td>\n",
       "      <td>0</td>\n",
       "      <td>1</td>\n",
       "      <td>1</td>\n",
       "      <td>0</td>\n",
       "    </tr>\n",
       "    <tr>\n",
       "      <th>4</th>\n",
       "      <td>5.99</td>\n",
       "      <td>400.0</td>\n",
       "      <td>647.0</td>\n",
       "      <td>59.0</td>\n",
       "      <td>3.6</td>\n",
       "      <td>0</td>\n",
       "      <td>1</td>\n",
       "      <td>0</td>\n",
       "      <td>0</td>\n",
       "      <td>1</td>\n",
       "      <td>0</td>\n",
       "      <td>1</td>\n",
       "    </tr>\n",
       "  </tbody>\n",
       "</table>\n",
       "</div>"
      ],
      "text/plain": [
       "   price  pages    size  customer_reviews  stars  dummy  \\\n",
       "0   9.99  171.0   249.0              23.0    4.9      0   \n",
       "1   2.00  258.0  1427.0              80.0    4.7      0   \n",
       "2   9.87  288.0  5643.0              32.0    4.2      0   \n",
       "3   2.99   36.0    98.0               6.0    4.5      0   \n",
       "4   5.99  400.0   647.0              59.0    3.6      0   \n",
       "\n",
       "   text_to_speech_Enabled  text_to_speech_Not enabled  x_ray_Enabled  \\\n",
       "0                       1                           0              0   \n",
       "1                       1                           0              1   \n",
       "2                       1                           0              0   \n",
       "3                       1                           0              0   \n",
       "4                       1                           0              0   \n",
       "\n",
       "   x_ray_Not Enabled  lending_Enabled  lending_Not Enabled  \n",
       "0                  1                1                    0  \n",
       "1                  0                1                    0  \n",
       "2                  1                0                    1  \n",
       "3                  1                1                    0  \n",
       "4                  1                0                    1  "
      ]
     },
     "execution_count": 9,
     "metadata": {},
     "output_type": "execute_result"
    }
   ],
   "source": [
    "df = pd.get_dummies(df)\n",
    "df.head()"
   ]
  },
  {
   "cell_type": "code",
   "execution_count": 10,
   "metadata": {},
   "outputs": [
    {
     "data": {
      "text/html": [
       "<div>\n",
       "<style scoped>\n",
       "    .dataframe tbody tr th:only-of-type {\n",
       "        vertical-align: middle;\n",
       "    }\n",
       "\n",
       "    .dataframe tbody tr th {\n",
       "        vertical-align: top;\n",
       "    }\n",
       "\n",
       "    .dataframe thead th {\n",
       "        text-align: right;\n",
       "    }\n",
       "</style>\n",
       "<table border=\"1\" class=\"dataframe\">\n",
       "  <thead>\n",
       "    <tr style=\"text-align: right;\">\n",
       "      <th></th>\n",
       "      <th>price</th>\n",
       "      <th>pages</th>\n",
       "      <th>size</th>\n",
       "      <th>customer_reviews</th>\n",
       "      <th>stars</th>\n",
       "      <th>dummy</th>\n",
       "      <th>text_to_speech_Enabled</th>\n",
       "      <th>x_ray_Enabled</th>\n",
       "      <th>lending_Enabled</th>\n",
       "    </tr>\n",
       "  </thead>\n",
       "  <tbody>\n",
       "    <tr>\n",
       "      <th>0</th>\n",
       "      <td>9.99</td>\n",
       "      <td>171.0</td>\n",
       "      <td>249.0</td>\n",
       "      <td>23.0</td>\n",
       "      <td>4.9</td>\n",
       "      <td>0</td>\n",
       "      <td>1</td>\n",
       "      <td>0</td>\n",
       "      <td>1</td>\n",
       "    </tr>\n",
       "    <tr>\n",
       "      <th>1</th>\n",
       "      <td>2.00</td>\n",
       "      <td>258.0</td>\n",
       "      <td>1427.0</td>\n",
       "      <td>80.0</td>\n",
       "      <td>4.7</td>\n",
       "      <td>0</td>\n",
       "      <td>1</td>\n",
       "      <td>1</td>\n",
       "      <td>1</td>\n",
       "    </tr>\n",
       "    <tr>\n",
       "      <th>2</th>\n",
       "      <td>9.87</td>\n",
       "      <td>288.0</td>\n",
       "      <td>5643.0</td>\n",
       "      <td>32.0</td>\n",
       "      <td>4.2</td>\n",
       "      <td>0</td>\n",
       "      <td>1</td>\n",
       "      <td>0</td>\n",
       "      <td>0</td>\n",
       "    </tr>\n",
       "    <tr>\n",
       "      <th>3</th>\n",
       "      <td>2.99</td>\n",
       "      <td>36.0</td>\n",
       "      <td>98.0</td>\n",
       "      <td>6.0</td>\n",
       "      <td>4.5</td>\n",
       "      <td>0</td>\n",
       "      <td>1</td>\n",
       "      <td>0</td>\n",
       "      <td>1</td>\n",
       "    </tr>\n",
       "    <tr>\n",
       "      <th>4</th>\n",
       "      <td>5.99</td>\n",
       "      <td>400.0</td>\n",
       "      <td>647.0</td>\n",
       "      <td>59.0</td>\n",
       "      <td>3.6</td>\n",
       "      <td>0</td>\n",
       "      <td>1</td>\n",
       "      <td>0</td>\n",
       "      <td>0</td>\n",
       "    </tr>\n",
       "  </tbody>\n",
       "</table>\n",
       "</div>"
      ],
      "text/plain": [
       "   price  pages    size  customer_reviews  stars  dummy  \\\n",
       "0   9.99  171.0   249.0              23.0    4.9      0   \n",
       "1   2.00  258.0  1427.0              80.0    4.7      0   \n",
       "2   9.87  288.0  5643.0              32.0    4.2      0   \n",
       "3   2.99   36.0    98.0               6.0    4.5      0   \n",
       "4   5.99  400.0   647.0              59.0    3.6      0   \n",
       "\n",
       "   text_to_speech_Enabled  x_ray_Enabled  lending_Enabled  \n",
       "0                       1              0                1  \n",
       "1                       1              1                1  \n",
       "2                       1              0                0  \n",
       "3                       1              0                1  \n",
       "4                       1              0                0  "
      ]
     },
     "execution_count": 10,
     "metadata": {},
     "output_type": "execute_result"
    }
   ],
   "source": [
    "df.drop(['text_to_speech_Not enabled','x_ray_Not Enabled','lending_Not Enabled'], axis='columns', inplace=True)\n",
    "df.head()"
   ]
  },
  {
   "cell_type": "code",
   "execution_count": 11,
   "metadata": {},
   "outputs": [
    {
     "name": "stdout",
     "output_type": "stream",
     "text": [
      "<class 'pandas.core.frame.DataFrame'>\n",
      "RangeIndex: 49197 entries, 0 to 49196\n",
      "Data columns (total 9 columns):\n",
      " #   Column                  Non-Null Count  Dtype  \n",
      "---  ------                  --------------  -----  \n",
      " 0   price                   48642 non-null  float64\n",
      " 1   pages                   48987 non-null  float64\n",
      " 2   size                    48155 non-null  float64\n",
      " 3   customer_reviews        47751 non-null  float64\n",
      " 4   stars                   47752 non-null  float64\n",
      " 5   dummy                   49197 non-null  int64  \n",
      " 6   text_to_speech_Enabled  49197 non-null  uint8  \n",
      " 7   x_ray_Enabled           49197 non-null  uint8  \n",
      " 8   lending_Enabled         49197 non-null  uint8  \n",
      "dtypes: float64(5), int64(1), uint8(3)\n",
      "memory usage: 2.4 MB\n"
     ]
    }
   ],
   "source": [
    "df.info()"
   ]
  },
  {
   "cell_type": "code",
   "execution_count": 12,
   "metadata": {},
   "outputs": [
    {
     "data": {
      "text/html": [
       "<div>\n",
       "<style scoped>\n",
       "    .dataframe tbody tr th:only-of-type {\n",
       "        vertical-align: middle;\n",
       "    }\n",
       "\n",
       "    .dataframe tbody tr th {\n",
       "        vertical-align: top;\n",
       "    }\n",
       "\n",
       "    .dataframe thead th {\n",
       "        text-align: right;\n",
       "    }\n",
       "</style>\n",
       "<table border=\"1\" class=\"dataframe\">\n",
       "  <thead>\n",
       "    <tr style=\"text-align: right;\">\n",
       "      <th></th>\n",
       "      <th>count</th>\n",
       "      <th>mean</th>\n",
       "      <th>std</th>\n",
       "      <th>min</th>\n",
       "      <th>25%</th>\n",
       "      <th>50%</th>\n",
       "      <th>75%</th>\n",
       "      <th>max</th>\n",
       "    </tr>\n",
       "  </thead>\n",
       "  <tbody>\n",
       "    <tr>\n",
       "      <th>price</th>\n",
       "      <td>48642.0</td>\n",
       "      <td>8.242983</td>\n",
       "      <td>12.867139</td>\n",
       "      <td>0.0</td>\n",
       "      <td>2.99</td>\n",
       "      <td>6.6</td>\n",
       "      <td>9.99</td>\n",
       "      <td>1200.0</td>\n",
       "    </tr>\n",
       "    <tr>\n",
       "      <th>pages</th>\n",
       "      <td>48987.0</td>\n",
       "      <td>293.684284</td>\n",
       "      <td>285.217646</td>\n",
       "      <td>1.0</td>\n",
       "      <td>163.00</td>\n",
       "      <td>268.0</td>\n",
       "      <td>360.00</td>\n",
       "      <td>10221.0</td>\n",
       "    </tr>\n",
       "    <tr>\n",
       "      <th>size</th>\n",
       "      <td>48155.0</td>\n",
       "      <td>2470.728624</td>\n",
       "      <td>12379.529979</td>\n",
       "      <td>1.0</td>\n",
       "      <td>427.00</td>\n",
       "      <td>749.0</td>\n",
       "      <td>1812.00</td>\n",
       "      <td>618307.0</td>\n",
       "    </tr>\n",
       "    <tr>\n",
       "      <th>customer_reviews</th>\n",
       "      <td>47751.0</td>\n",
       "      <td>94.231828</td>\n",
       "      <td>319.180387</td>\n",
       "      <td>1.0</td>\n",
       "      <td>11.00</td>\n",
       "      <td>29.0</td>\n",
       "      <td>78.00</td>\n",
       "      <td>19723.0</td>\n",
       "    </tr>\n",
       "    <tr>\n",
       "      <th>stars</th>\n",
       "      <td>47752.0</td>\n",
       "      <td>4.281297</td>\n",
       "      <td>0.507142</td>\n",
       "      <td>1.0</td>\n",
       "      <td>4.00</td>\n",
       "      <td>4.4</td>\n",
       "      <td>4.60</td>\n",
       "      <td>5.0</td>\n",
       "    </tr>\n",
       "    <tr>\n",
       "      <th>dummy</th>\n",
       "      <td>49197.0</td>\n",
       "      <td>0.058967</td>\n",
       "      <td>0.235565</td>\n",
       "      <td>0.0</td>\n",
       "      <td>0.00</td>\n",
       "      <td>0.0</td>\n",
       "      <td>0.00</td>\n",
       "      <td>1.0</td>\n",
       "    </tr>\n",
       "    <tr>\n",
       "      <th>text_to_speech_Enabled</th>\n",
       "      <td>49197.0</td>\n",
       "      <td>0.899791</td>\n",
       "      <td>0.300282</td>\n",
       "      <td>0.0</td>\n",
       "      <td>1.00</td>\n",
       "      <td>1.0</td>\n",
       "      <td>1.00</td>\n",
       "      <td>1.0</td>\n",
       "    </tr>\n",
       "    <tr>\n",
       "      <th>x_ray_Enabled</th>\n",
       "      <td>49197.0</td>\n",
       "      <td>0.362400</td>\n",
       "      <td>0.480698</td>\n",
       "      <td>0.0</td>\n",
       "      <td>0.00</td>\n",
       "      <td>0.0</td>\n",
       "      <td>1.00</td>\n",
       "      <td>1.0</td>\n",
       "    </tr>\n",
       "    <tr>\n",
       "      <th>lending_Enabled</th>\n",
       "      <td>49197.0</td>\n",
       "      <td>0.525378</td>\n",
       "      <td>0.499361</td>\n",
       "      <td>0.0</td>\n",
       "      <td>0.00</td>\n",
       "      <td>1.0</td>\n",
       "      <td>1.00</td>\n",
       "      <td>1.0</td>\n",
       "    </tr>\n",
       "  </tbody>\n",
       "</table>\n",
       "</div>"
      ],
      "text/plain": [
       "                          count         mean           std  min     25%  \\\n",
       "price                   48642.0     8.242983     12.867139  0.0    2.99   \n",
       "pages                   48987.0   293.684284    285.217646  1.0  163.00   \n",
       "size                    48155.0  2470.728624  12379.529979  1.0  427.00   \n",
       "customer_reviews        47751.0    94.231828    319.180387  1.0   11.00   \n",
       "stars                   47752.0     4.281297      0.507142  1.0    4.00   \n",
       "dummy                   49197.0     0.058967      0.235565  0.0    0.00   \n",
       "text_to_speech_Enabled  49197.0     0.899791      0.300282  0.0    1.00   \n",
       "x_ray_Enabled           49197.0     0.362400      0.480698  0.0    0.00   \n",
       "lending_Enabled         49197.0     0.525378      0.499361  0.0    0.00   \n",
       "\n",
       "                          50%      75%       max  \n",
       "price                     6.6     9.99    1200.0  \n",
       "pages                   268.0   360.00   10221.0  \n",
       "size                    749.0  1812.00  618307.0  \n",
       "customer_reviews         29.0    78.00   19723.0  \n",
       "stars                     4.4     4.60       5.0  \n",
       "dummy                     0.0     0.00       1.0  \n",
       "text_to_speech_Enabled    1.0     1.00       1.0  \n",
       "x_ray_Enabled             0.0     1.00       1.0  \n",
       "lending_Enabled           1.0     1.00       1.0  "
      ]
     },
     "execution_count": 12,
     "metadata": {},
     "output_type": "execute_result"
    }
   ],
   "source": [
    "df.describe(include='all').T"
   ]
  },
  {
   "cell_type": "code",
   "execution_count": 13,
   "metadata": {},
   "outputs": [
    {
     "data": {
      "text/plain": [
       "(49197, 9)"
      ]
     },
     "execution_count": 13,
     "metadata": {},
     "output_type": "execute_result"
    }
   ],
   "source": [
    "df.shape"
   ]
  },
  {
   "cell_type": "code",
   "execution_count": 14,
   "metadata": {},
   "outputs": [
    {
     "data": {
      "text/plain": [
       "<seaborn.axisgrid.PairGrid at 0x1f8aa0dcb50>"
      ]
     },
     "execution_count": 14,
     "metadata": {},
     "output_type": "execute_result"
    },
    {
     "data": {
      "text/plain": [
       "<Figure size 1440x864 with 0 Axes>"
      ]
     },
     "metadata": {},
     "output_type": "display_data"
    },
    {
     "data": {
      "image/png": "[encoded data removed]",
      "text/plain": [
       "<Figure size 900x180 with 5 Axes>"
      ]
     },
     "metadata": {
      "needs_background": "light"
     },
     "output_type": "display_data"
    }
   ],
   "source": [
    "plt.figure(figsize=(20, 12))\n",
    "sns.pairplot(df,x_vars=['price','pages','size','customer_reviews','stars'],y_vars=['dummy'])"
   ]
  },
  {
   "cell_type": "code",
   "execution_count": 15,
   "metadata": {},
   "outputs": [
    {
     "data": {
      "image/png": "[encoded data removed]",
      "text/plain": [
       "<Figure size 432x288 with 9 Axes>"
      ]
     },
     "metadata": {
      "needs_background": "light"
     },
     "output_type": "display_data"
    }
   ],
   "source": [
    "df.hist()\n",
    "plt.tight_layout()\n",
    "plt.show()"
   ]
  },
  {
   "cell_type": "code",
   "execution_count": 16,
   "metadata": {},
   "outputs": [
    {
     "data": {
      "text/plain": [
       "<AxesSubplot:ylabel='customer_reviews'>"
      ]
     },
     "execution_count": 16,
     "metadata": {},
     "output_type": "execute_result"
    },
    {
     "data": {
      "image/png": "[encoded data removed]",
      "text/plain": [
       "<Figure size 720x1080 with 1 Axes>"
      ]
     },
     "metadata": {
      "needs_background": "light"
     },
     "output_type": "display_data"
    }
   ],
   "source": [
    "plt.figure(figsize=(10,15))\n",
    "sns.boxplot(data=df,y='customer_reviews')"
   ]
  },
  {
   "cell_type": "code",
   "execution_count": 17,
   "metadata": {},
   "outputs": [
    {
     "data": {
      "text/plain": [
       "<AxesSubplot:ylabel='size'>"
      ]
     },
     "execution_count": 17,
     "metadata": {},
     "output_type": "execute_result"
    },
    {
     "data": {
      "image/png": "[encoded data removed]",
      "text/plain": [
       "<Figure size 720x1080 with 1 Axes>"
      ]
     },
     "metadata": {
      "needs_background": "light"
     },
     "output_type": "display_data"
    }
   ],
   "source": [
    "plt.figure(figsize=(10,15))\n",
    "sns.boxplot(data=df,y='size')"
   ]
  },
  {
   "cell_type": "code",
   "execution_count": 18,
   "metadata": {},
   "outputs": [
    {
     "data": {
      "text/plain": [
       "<AxesSubplot:ylabel='price'>"
      ]
     },
     "execution_count": 18,
     "metadata": {},
     "output_type": "execute_result"
    },
    {
     "data": {
      "image/png": "[encoded data removed]",
      "text/plain": [
       "<Figure size 720x1080 with 1 Axes>"
      ]
     },
     "metadata": {
      "needs_background": "light"
     },
     "output_type": "display_data"
    }
   ],
   "source": [
    "plt.figure(figsize=(10,15))\n",
    "sns.boxplot(data=df,y='price')"
   ]
  },
  {
   "cell_type": "code",
   "execution_count": 19,
   "metadata": {},
   "outputs": [
    {
     "data": {
      "text/plain": [
       "<AxesSubplot:ylabel='pages'>"
      ]
     },
     "execution_count": 19,
     "metadata": {},
     "output_type": "execute_result"
    },
    {
     "data": {
      "image/png": "[encoded data removed]",
      "text/plain": [
       "<Figure size 720x1080 with 1 Axes>"
      ]
     },
     "metadata": {
      "needs_background": "light"
     },
     "output_type": "display_data"
    }
   ],
   "source": [
    "plt.figure(figsize=(10,15))\n",
    "sns.boxplot(data=df,y='pages')"
   ]
  },
  {
   "cell_type": "code",
   "execution_count": 20,
   "metadata": {},
   "outputs": [
    {
     "data": {
      "text/plain": [
       "<AxesSubplot:>"
      ]
     },
     "execution_count": 20,
     "metadata": {},
     "output_type": "execute_result"
    },
    {
     "data": {
      "image/png": "[encoded data removed]",
      "text/plain": [
       "<Figure size 864x504 with 2 Axes>"
      ]
     },
     "metadata": {
      "needs_background": "light"
     },
     "output_type": "display_data"
    }
   ],
   "source": [
    "corr=df.corr()\n",
    "mask = np.zeros_like(corr)\n",
    "mask[np.triu_indices_from(mask)] = True\n",
    "plt.figure(figsize=(12,7))\n",
    "sns.heatmap(corr, mask = mask, annot=True, center=0, cmap=\"YlGnBu\")"
   ]
  },
  {
   "cell_type": "code",
   "execution_count": 21,
   "metadata": {},
   "outputs": [
    {
     "data": {
      "text/plain": [
       "Index(['price', 'pages', 'size', 'customer_reviews', 'stars', 'dummy',\n",
       "       'text_to_speech_Enabled', 'x_ray_Enabled', 'lending_Enabled'],\n",
       "      dtype='object')"
      ]
     },
     "execution_count": 21,
     "metadata": {},
     "output_type": "execute_result"
    }
   ],
   "source": [
    "df.columns"
   ]
  },
  {
   "cell_type": "code",
   "execution_count": 11,
   "metadata": {},
   "outputs": [],
   "source": [
    "train,test = train_test_split(df, test_size=0.2,stratify = df['dummy'])\n",
    "X_cols = ['price', 'pages', 'size', 'customer_reviews', 'text_to_speech_Enabled', 'x_ray_Enabled', 'lending_Enabled']\n",
    "X_train, X_test = train[X_cols], test[X_cols]\n",
    "y_train, y_test = train['dummy'], test['dummy']\n",
    "num_cols = ['price', 'pages', 'size', 'customer_reviews']\n",
    "train_median = X_train[num_cols].median()\n",
    "X_train[num_cols]=X_train[num_cols].fillna(train_median)\n",
    "X_test[num_cols]=X_test[num_cols].fillna(train_median)"
   ]
  },
  {
   "cell_type": "code",
   "execution_count": 23,
   "metadata": {},
   "outputs": [
    {
     "name": "stdout",
     "output_type": "stream",
     "text": [
      "Regressão:  RandomForestClassifier\n",
      "Score:  0.9422764227642276\n",
      "ROC AUC:  0.8973101772547851\n",
      "================================================================================\n",
      "Regressão:  GaussianNB\n",
      "Score:  0.7071138211382114\n",
      "ROC AUC:  0.8666517092425711\n",
      "================================================================================\n",
      "Regressão:  LogisticRegression\n",
      "Score:  0.9410569105691057\n",
      "ROC AUC:  0.9206343561480599\n",
      "================================================================================\n",
      "Regressão:  DecisionTreeClassifier\n",
      "Score:  0.9159552845528456\n",
      "ROC AUC:  0.6409326357339689\n",
      "================================================================================\n"
     ]
    }
   ],
   "source": [
    "regs = [RandomForestClassifier(),GaussianNB(),LogisticRegression(),DecisionTreeClassifier()]\n",
    "for reg in regs:\n",
    "    print(\"Regressão: \", reg.__class__.__name__)\n",
    "    reg = reg\n",
    "    reg.fit(X_train, y_train)\n",
    "    print(\"Score: \", reg.score(X_test, y_test))\n",
    "    y_proba_test = reg.predict_proba(X_test)\n",
    "    roc_test = roc_auc_score(y_test, y_proba_test[:, 1])\n",
    "    print(\"ROC AUC: \", roc_test)\n",
    "    print(\"=\"*80)"
   ]
  },
  {
   "cell_type": "code",
   "execution_count": 24,
   "metadata": {},
   "outputs": [
    {
     "data": {
      "text/html": [
       "<div>\n",
       "<style scoped>\n",
       "    .dataframe tbody tr th:only-of-type {\n",
       "        vertical-align: middle;\n",
       "    }\n",
       "\n",
       "    .dataframe tbody tr th {\n",
       "        vertical-align: top;\n",
       "    }\n",
       "\n",
       "    .dataframe thead th {\n",
       "        text-align: right;\n",
       "    }\n",
       "</style>\n",
       "<table border=\"1\" class=\"dataframe\">\n",
       "  <thead>\n",
       "    <tr style=\"text-align: right;\">\n",
       "      <th></th>\n",
       "      <th>Atributo</th>\n",
       "      <th>Importancia</th>\n",
       "    </tr>\n",
       "  </thead>\n",
       "  <tbody>\n",
       "    <tr>\n",
       "      <th>2</th>\n",
       "      <td>size</td>\n",
       "      <td>0.292478</td>\n",
       "    </tr>\n",
       "    <tr>\n",
       "      <th>3</th>\n",
       "      <td>customer_reviews</td>\n",
       "      <td>0.290801</td>\n",
       "    </tr>\n",
       "    <tr>\n",
       "      <th>1</th>\n",
       "      <td>pages</td>\n",
       "      <td>0.245841</td>\n",
       "    </tr>\n",
       "    <tr>\n",
       "      <th>0</th>\n",
       "      <td>price</td>\n",
       "      <td>0.144375</td>\n",
       "    </tr>\n",
       "    <tr>\n",
       "      <th>6</th>\n",
       "      <td>lending_Enabled</td>\n",
       "      <td>0.013280</td>\n",
       "    </tr>\n",
       "  </tbody>\n",
       "</table>\n",
       "</div>"
      ],
      "text/plain": [
       "           Atributo  Importancia\n",
       "2              size     0.292478\n",
       "3  customer_reviews     0.290801\n",
       "1             pages     0.245841\n",
       "0             price     0.144375\n",
       "6   lending_Enabled     0.013280"
      ]
     },
     "execution_count": 24,
     "metadata": {},
     "output_type": "execute_result"
    }
   ],
   "source": [
    "reg = DecisionTreeClassifier()\n",
    "reg.fit(X_train, y_train)\n",
    "clf=pd.DataFrame(list(zip(X_train.columns, reg.feature_importances_)), columns=['Atributo', 'Importancia'])\n",
    "clf.sort_values('Importancia', ascending=False).head()"
   ]
  },
  {
   "cell_type": "code",
   "execution_count": 25,
   "metadata": {},
   "outputs": [
    {
     "data": {
      "text/html": [
       "<div>\n",
       "<style scoped>\n",
       "    .dataframe tbody tr th:only-of-type {\n",
       "        vertical-align: middle;\n",
       "    }\n",
       "\n",
       "    .dataframe tbody tr th {\n",
       "        vertical-align: top;\n",
       "    }\n",
       "\n",
       "    .dataframe thead th {\n",
       "        text-align: right;\n",
       "    }\n",
       "</style>\n",
       "<table border=\"1\" class=\"dataframe\">\n",
       "  <thead>\n",
       "    <tr style=\"text-align: right;\">\n",
       "      <th></th>\n",
       "      <th>Atributo</th>\n",
       "      <th>Importancia</th>\n",
       "    </tr>\n",
       "  </thead>\n",
       "  <tbody>\n",
       "    <tr>\n",
       "      <th>3</th>\n",
       "      <td>customer_reviews</td>\n",
       "      <td>0.303644</td>\n",
       "    </tr>\n",
       "    <tr>\n",
       "      <th>2</th>\n",
       "      <td>size</td>\n",
       "      <td>0.266520</td>\n",
       "    </tr>\n",
       "    <tr>\n",
       "      <th>1</th>\n",
       "      <td>pages</td>\n",
       "      <td>0.249933</td>\n",
       "    </tr>\n",
       "    <tr>\n",
       "      <th>0</th>\n",
       "      <td>price</td>\n",
       "      <td>0.149805</td>\n",
       "    </tr>\n",
       "    <tr>\n",
       "      <th>5</th>\n",
       "      <td>x_ray_Enabled</td>\n",
       "      <td>0.015418</td>\n",
       "    </tr>\n",
       "  </tbody>\n",
       "</table>\n",
       "</div>"
      ],
      "text/plain": [
       "           Atributo  Importancia\n",
       "3  customer_reviews     0.303644\n",
       "2              size     0.266520\n",
       "1             pages     0.249933\n",
       "0             price     0.149805\n",
       "5     x_ray_Enabled     0.015418"
      ]
     },
     "execution_count": 25,
     "metadata": {},
     "output_type": "execute_result"
    }
   ],
   "source": [
    "reg = RandomForestClassifier()\n",
    "reg.fit(X_train, y_train)\n",
    "clf=pd.DataFrame(list(zip(X_train.columns, reg.feature_importances_)), columns=['Atributo', 'Importancia'])\n",
    "clf.sort_values('Importancia', ascending=False).head()"
   ]
  },
  {
   "cell_type": "code",
   "execution_count": 27,
   "metadata": {},
   "outputs": [
    {
     "name": "stdout",
     "output_type": "stream",
     "text": [
      "ROC AUC de Teste é DecisionTreeClassifier é 86.23%\n"
     ]
    },
    {
     "data": {
      "text/plain": [
       "[Text(558.0, 453.0, 'customer_reviews <= 3.5\\ngini = 0.111\\nsamples = 39357\\nvalue = [37036, 2321]'),\n",
       " Text(279.0, 271.8, 'customer_reviews <= 1.5\\ngini = 0.487\\nsamples = 3262\\nvalue = [1893, 1369]'),\n",
       " Text(139.5, 90.59999999999997, 'gini = 0.486\\nsamples = 1089\\nvalue = [453, 636]'),\n",
       " Text(418.5, 90.59999999999997, 'gini = 0.447\\nsamples = 2173\\nvalue = [1440, 733]'),\n",
       " Text(837.0, 271.8, 'customer_reviews <= 7.5\\ngini = 0.051\\nsamples = 36095\\nvalue = [35143, 952]'),\n",
       " Text(697.5, 90.59999999999997, 'gini = 0.238\\nsamples = 3743\\nvalue = [3225, 518]'),\n",
       " Text(976.5, 90.59999999999997, 'gini = 0.026\\nsamples = 32352\\nvalue = [31918, 434]')]"
      ]
     },
     "execution_count": 27,
     "metadata": {},
     "output_type": "execute_result"
    },
    {
     "data": {
      "image/png": "[encoded data removed]",
      "text/plain": [
       "<Figure size 1440x720 with 1 Axes>"
      ]
     },
     "metadata": {
      "needs_background": "light"
     },
     "output_type": "display_data"
    }
   ],
   "source": [
    "from sklearn import tree\n",
    "clf = DecisionTreeClassifier(max_depth=2)\n",
    "clf.fit(X_train, y_train) \n",
    "y_proba = clf.predict_proba(X_test)\n",
    "roc_auc=roc_auc_score(y_test, y_proba[:, 1])\n",
    "\n",
    "print(f'ROC AUC de Teste é {clf.__class__.__name__} é {roc_auc*100:.2f}%')\n",
    "\n",
    "plt.figure(figsize=(20,10))\n",
    "tree.plot_tree(clf,feature_names=X_train.columns,filled=True)"
   ]
  },
  {
   "cell_type": "code",
   "execution_count": 28,
   "metadata": {},
   "outputs": [
    {
     "name": "stdout",
     "output_type": "stream",
     "text": [
      "              precision    recall  f1-score   support\n",
      "\n",
      "           0       0.95      0.99      0.97      9260\n",
      "           1       0.52      0.24      0.33       580\n",
      "\n",
      "    accuracy                           0.94      9840\n",
      "   macro avg       0.74      0.61      0.65      9840\n",
      "weighted avg       0.93      0.94      0.93      9840\n",
      "\n"
     ]
    },
    {
     "data": {
      "image/png": "[encoded data removed]",
      "text/plain": [
       "<Figure size 432x288 with 2 Axes>"
      ]
     },
     "metadata": {
      "needs_background": "light"
     },
     "output_type": "display_data"
    }
   ],
   "source": [
    "reg = RandomForestClassifier()\n",
    "reg.fit(X_train, y_train)\n",
    "y_pred=reg.predict(X_test)\n",
    "cm=confusion_matrix(y_test, y_pred)\n",
    "sns.heatmap(cm, annot=True, fmt='g')\n",
    "plt.xlabel('Predição( 1 ou 0)')\n",
    "plt.ylabel('Real ( 1 ou 0)')\n",
    "print(classification_report(y_test, y_pred))"
   ]
  },
  {
   "cell_type": "code",
   "execution_count": 29,
   "metadata": {
    "scrolled": true
   },
   "outputs": [
    {
     "name": "stdout",
     "output_type": "stream",
     "text": [
      "              precision    recall  f1-score   support\n",
      "\n",
      "           0       0.99      0.69      0.82      9260\n",
      "           1       0.16      0.93      0.27       580\n",
      "\n",
      "    accuracy                           0.71      9840\n",
      "   macro avg       0.58      0.81      0.54      9840\n",
      "weighted avg       0.94      0.71      0.78      9840\n",
      "\n"
     ]
    },
    {
     "data": {
      "image/png": "[encoded data removed]",
      "text/plain": [
       "<Figure size 432x288 with 2 Axes>"
      ]
     },
     "metadata": {
      "needs_background": "light"
     },
     "output_type": "display_data"
    }
   ],
   "source": [
    "reg = GaussianNB()\n",
    "reg.fit(X_train, y_train)\n",
    "y_pred=reg.predict(X_test)\n",
    "cm=confusion_matrix(y_test, y_pred)\n",
    "sns.heatmap(cm, annot=True, fmt='g')\n",
    "plt.xlabel('Predição( 1 ou 0)')\n",
    "plt.ylabel('Real ( 1 ou 0)')\n",
    "print(classification_report(y_test, y_pred))"
   ]
  },
  {
   "cell_type": "code",
   "execution_count": 23,
   "metadata": {},
   "outputs": [
    {
     "data": {
      "text/plain": [
       "array([ True, False,  True, ..., False, False, False])"
      ]
     },
     "execution_count": 23,
     "metadata": {},
     "output_type": "execute_result"
    }
   ],
   "source": [
    "pr>0.05"
   ]
  },
  {
   "cell_type": "code",
   "execution_count": 24,
   "metadata": {},
   "outputs": [
    {
     "name": "stdout",
     "output_type": "stream",
     "text": [
      "              precision    recall  f1-score   support\n",
      "\n",
      "           0       0.99      0.75      0.85      9260\n",
      "           1       0.19      0.92      0.31       580\n",
      "\n",
      "    accuracy                           0.76      9840\n",
      "   macro avg       0.59      0.84      0.58      9840\n",
      "weighted avg       0.95      0.76      0.82      9840\n",
      "\n",
      "0.912222201534222\n"
     ]
    },
    {
     "data": {
      "image/png": "[encoded data removed]",
      "text/plain": [
       "<Figure size 432x288 with 2 Axes>"
      ]
     },
     "metadata": {
      "needs_background": "light"
     },
     "output_type": "display_data"
    }
   ],
   "source": [
    "threshold = 0.05\n",
    "reg = LogisticRegression()\n",
    "reg.fit(X_train, y_train)\n",
    "#y_pred=reg.predict(X_test)\n",
    "y_proba_test = reg.predict_proba(X_test)\n",
    "y_proba_test= y_proba_test[:, 1]\n",
    "y_pred = y_proba_test>threshold\n",
    "cm=confusion_matrix(y_test, y_pred)\n",
    "sns.heatmap(cm, annot=True, fmt='g')\n",
    "plt.xlabel('Predição( 1 ou 0)')\n",
    "plt.ylabel('Real ( 1 ou 0)')\n",
    "print(classification_report(y_test, y_pred))\n",
    "y_proba_test = reg.predict_proba(X_test)\n",
    "roc_test = roc_auc_score(y_test, y_proba_test[:, 1])\n",
    "print(roc_test)"
   ]
  },
  {
   "cell_type": "code",
   "execution_count": 13,
   "metadata": {},
   "outputs": [
    {
     "data": {
      "text/plain": [
       "(array([6892.,  623.,  541.,  343.,  375.,  259.,  281.,  256.,  240.,\n",
       "          30.]),\n",
       " array([0.        , 0.04434602, 0.08869204, 0.13303806, 0.17738408,\n",
       "        0.2217301 , 0.26607612, 0.31042214, 0.35476816, 0.39911418,\n",
       "        0.4434602 ]),\n",
       " <BarContainer object of 10 artists>)"
      ]
     },
     "execution_count": 13,
     "metadata": {},
     "output_type": "execute_result"
    },
    {
     "data": {
      "image/png": "[encoded data removed]",
      "text/plain": [
       "<Figure size 432x288 with 1 Axes>"
      ]
     },
     "metadata": {
      "needs_background": "light"
     },
     "output_type": "display_data"
    }
   ],
   "source": [
    "plt.hist(y_proba_test[:, 1])"
   ]
  },
  {
   "cell_type": "code",
   "execution_count": 18,
   "metadata": {},
   "outputs": [
    {
     "data": {
      "text/plain": [
       "(array([ 580.,    0.,    0.,    0.,    0.,    0.,    0.,    0.,    0.,\n",
       "        9260.]),\n",
       " array([0.00150967, 0.01203272, 0.02255577, 0.03307881, 0.04360186,\n",
       "        0.05412491, 0.06464796, 0.075171  , 0.08569405, 0.0962171 ,\n",
       "        0.10674015]),\n",
       " <BarContainer object of 10 artists>)"
      ]
     },
     "execution_count": 18,
     "metadata": {},
     "output_type": "execute_result"
    },
    {
     "data": {
      "image/png": "[encoded data removed]",
      "text/plain": [
       "<Figure size 432x288 with 1 Axes>"
      ]
     },
     "metadata": {
      "needs_background": "light"
     },
     "output_type": "display_data"
    }
   ],
   "source": [
    "pr = y_proba_test[:, 1]\n",
    "plt.hist(pr[y_test.values])"
   ]
  },
  {
   "cell_type": "code",
   "execution_count": 21,
   "metadata": {},
   "outputs": [
    {
     "data": {
      "text/plain": [
       "0    37036\n",
       "1     2321\n",
       "Name: dummy, dtype: int64"
      ]
     },
     "execution_count": 21,
     "metadata": {},
     "output_type": "execute_result"
    }
   ],
   "source": [
    "y_train.value_counts()\n"
   ]
  },
  {
   "cell_type": "code",
   "execution_count": 31,
   "metadata": {},
   "outputs": [
    {
     "name": "stdout",
     "output_type": "stream",
     "text": [
      "              precision    recall  f1-score   support\n",
      "\n",
      "           0       0.96      0.95      0.95      9260\n",
      "           1       0.30      0.32      0.31       580\n",
      "\n",
      "    accuracy                           0.91      9840\n",
      "   macro avg       0.63      0.64      0.63      9840\n",
      "weighted avg       0.92      0.91      0.92      9840\n",
      "\n"
     ]
    },
    {
     "data": {
      "image/png": "[encoded data removed]",
      "text/plain": [
       "<Figure size 432x288 with 2 Axes>"
      ]
     },
     "metadata": {
      "needs_background": "light"
     },
     "output_type": "display_data"
    }
   ],
   "source": [
    "reg = DecisionTreeClassifier()\n",
    "reg.fit(X_train, y_train)\n",
    "y_pred=reg.predict(X_test)\n",
    "cm=confusion_matrix(y_test, y_pred)\n",
    "sns.heatmap(cm, annot=True, fmt='g')\n",
    "plt.xlabel('Predição( 1 ou 0)')\n",
    "plt.ylabel('Real ( 1 ou 0)')\n",
    "print(classification_report(y_test, y_pred))"
   ]
  },
  {
   "cell_type": "code",
   "execution_count": null,
   "metadata": {},
   "outputs": [],
   "source": [
    "================================================================================================================================="
   ]
  },
  {
   "cell_type": "code",
   "execution_count": 86,
   "metadata": {},
   "outputs": [
    {
     "data": {
      "text/html": [
       "<div>\n",
       "<style scoped>\n",
       "    .dataframe tbody tr th:only-of-type {\n",
       "        vertical-align: middle;\n",
       "    }\n",
       "\n",
       "    .dataframe tbody tr th {\n",
       "        vertical-align: top;\n",
       "    }\n",
       "\n",
       "    .dataframe thead th {\n",
       "        text-align: right;\n",
       "    }\n",
       "</style>\n",
       "<table border=\"1\" class=\"dataframe\">\n",
       "  <thead>\n",
       "    <tr style=\"text-align: right;\">\n",
       "      <th></th>\n",
       "      <th>url</th>\n",
       "      <th>title</th>\n",
       "      <th>author</th>\n",
       "      <th>price</th>\n",
       "      <th>save</th>\n",
       "      <th>pages</th>\n",
       "      <th>description</th>\n",
       "      <th>size</th>\n",
       "      <th>publisher</th>\n",
       "      <th>language</th>\n",
       "      <th>text_to_speech</th>\n",
       "      <th>x_ray</th>\n",
       "      <th>lending</th>\n",
       "      <th>customer_reviews</th>\n",
       "      <th>stars</th>\n",
       "    </tr>\n",
       "  </thead>\n",
       "  <tbody>\n",
       "    <tr>\n",
       "      <th>0</th>\n",
       "      <td>http://www.amazon.com/How-Bartender-Bartending...</td>\n",
       "      <td>How to be a Bartender: Get a Bartending Job Wi...</td>\n",
       "      <td>Dave Allred</td>\n",
       "      <td>9.99</td>\n",
       "      <td>NaN</td>\n",
       "      <td>171.0</td>\n",
       "      <td>In his revolutionary new book, Dave Allred (Th...</td>\n",
       "      <td>249.0</td>\n",
       "      <td>NaN</td>\n",
       "      <td>English</td>\n",
       "      <td>Enabled</td>\n",
       "      <td>Not Enabled</td>\n",
       "      <td>Enabled</td>\n",
       "      <td>23.0</td>\n",
       "      <td>4.9</td>\n",
       "    </tr>\n",
       "    <tr>\n",
       "      <th>1</th>\n",
       "      <td>http://www.amazon.com/Raise-Bar-Action-Based-C...</td>\n",
       "      <td>Raise the Bar: An Action-Based Method for Maxi...</td>\n",
       "      <td>Jon Taffer</td>\n",
       "      <td>2.00</td>\n",
       "      <td>24.00</td>\n",
       "      <td>258.0</td>\n",
       "      <td>If thereâs anyone who can prevent a bar or r...</td>\n",
       "      <td>1427.0</td>\n",
       "      <td>Amazon Publishing</td>\n",
       "      <td>English</td>\n",
       "      <td>Enabled</td>\n",
       "      <td>Enabled</td>\n",
       "      <td>Enabled</td>\n",
       "      <td>80.0</td>\n",
       "      <td>4.7</td>\n",
       "    </tr>\n",
       "    <tr>\n",
       "      <th>2</th>\n",
       "      <td>http://www.amazon.com/The-Professional-Bartend...</td>\n",
       "      <td>The Professional Bartender's Handbook: A Recip...</td>\n",
       "      <td>Valerie Mellema</td>\n",
       "      <td>9.87</td>\n",
       "      <td>12.08</td>\n",
       "      <td>288.0</td>\n",
       "      <td>The Professional Bartenders Handbook is writte...</td>\n",
       "      <td>5643.0</td>\n",
       "      <td>Atlantic Publishing Group Inc.; illustrated ed...</td>\n",
       "      <td>English</td>\n",
       "      <td>Enabled</td>\n",
       "      <td>Not Enabled</td>\n",
       "      <td>Not Enabled</td>\n",
       "      <td>32.0</td>\n",
       "      <td>4.2</td>\n",
       "    </tr>\n",
       "    <tr>\n",
       "      <th>3</th>\n",
       "      <td>http://www.amazon.com/Double-Your-Tips-Jerry-M...</td>\n",
       "      <td>How to Double Your Tips [Kindle Edition]</td>\n",
       "      <td>Jerry Minchey</td>\n",
       "      <td>2.99</td>\n",
       "      <td>NaN</td>\n",
       "      <td>36.0</td>\n",
       "      <td>How to Double Your Tips (For every waitress, w...</td>\n",
       "      <td>98.0</td>\n",
       "      <td>Stony River Media</td>\n",
       "      <td>English</td>\n",
       "      <td>Enabled</td>\n",
       "      <td>Not Enabled</td>\n",
       "      <td>Enabled</td>\n",
       "      <td>6.0</td>\n",
       "      <td>4.5</td>\n",
       "    </tr>\n",
       "    <tr>\n",
       "      <th>4</th>\n",
       "      <td>http://www.amazon.com/The-Bartenders-Bible-Mix...</td>\n",
       "      <td>The Bartender's Bible: 1001 Mixed Drinks [Kind...</td>\n",
       "      <td>Gary Regan</td>\n",
       "      <td>5.99</td>\n",
       "      <td>2.00</td>\n",
       "      <td>400.0</td>\n",
       "      <td>Mix Drinks Like A Pro Now you can with this in...</td>\n",
       "      <td>647.0</td>\n",
       "      <td>HarperCollins e-books</td>\n",
       "      <td>English</td>\n",
       "      <td>Enabled</td>\n",
       "      <td>Not Enabled</td>\n",
       "      <td>Not Enabled</td>\n",
       "      <td>59.0</td>\n",
       "      <td>3.6</td>\n",
       "    </tr>\n",
       "  </tbody>\n",
       "</table>\n",
       "</div>"
      ],
      "text/plain": [
       "                                                 url  \\\n",
       "0  http://www.amazon.com/How-Bartender-Bartending...   \n",
       "1  http://www.amazon.com/Raise-Bar-Action-Based-C...   \n",
       "2  http://www.amazon.com/The-Professional-Bartend...   \n",
       "3  http://www.amazon.com/Double-Your-Tips-Jerry-M...   \n",
       "4  http://www.amazon.com/The-Bartenders-Bible-Mix...   \n",
       "\n",
       "                                               title           author  price  \\\n",
       "0  How to be a Bartender: Get a Bartending Job Wi...      Dave Allred   9.99   \n",
       "1  Raise the Bar: An Action-Based Method for Maxi...       Jon Taffer   2.00   \n",
       "2  The Professional Bartender's Handbook: A Recip...  Valerie Mellema   9.87   \n",
       "3           How to Double Your Tips [Kindle Edition]    Jerry Minchey   2.99   \n",
       "4  The Bartender's Bible: 1001 Mixed Drinks [Kind...       Gary Regan   5.99   \n",
       "\n",
       "    save  pages                                        description    size  \\\n",
       "0    NaN  171.0  In his revolutionary new book, Dave Allred (Th...   249.0   \n",
       "1  24.00  258.0  If thereâs anyone who can prevent a bar or r...  1427.0   \n",
       "2  12.08  288.0  The Professional Bartenders Handbook is writte...  5643.0   \n",
       "3    NaN   36.0  How to Double Your Tips (For every waitress, w...    98.0   \n",
       "4   2.00  400.0  Mix Drinks Like A Pro Now you can with this in...   647.0   \n",
       "\n",
       "                                           publisher language text_to_speech  \\\n",
       "0                                                NaN  English        Enabled   \n",
       "1                                  Amazon Publishing  English        Enabled   \n",
       "2  Atlantic Publishing Group Inc.; illustrated ed...  English        Enabled   \n",
       "3                                  Stony River Media  English        Enabled   \n",
       "4                              HarperCollins e-books  English        Enabled   \n",
       "\n",
       "         x_ray      lending  customer_reviews  stars  \n",
       "0  Not Enabled      Enabled              23.0    4.9  \n",
       "1      Enabled      Enabled              80.0    4.7  \n",
       "2  Not Enabled  Not Enabled              32.0    4.2  \n",
       "3  Not Enabled      Enabled               6.0    4.5  \n",
       "4  Not Enabled  Not Enabled              59.0    3.6  "
      ]
     },
     "execution_count": 86,
     "metadata": {},
     "output_type": "execute_result"
    }
   ],
   "source": [
    "df = pd.read_csv(r\"C:\\Users\\Dell\\Downloads\\BigML_Dataset.csv\",encoding='latin')\n",
    "df.head()"
   ]
  },
  {
   "cell_type": "code",
   "execution_count": 87,
   "metadata": {},
   "outputs": [],
   "source": [
    "from sklearn.feature_extraction.text import TfidfVectorizer\n",
    "from sklearn.decomposition import TruncatedSVD\n",
    "vectorizer = TfidfVectorizer(min_df=1,stop_words='english')\n",
    "words = vectorizer.fit_transform(df['description'])\n",
    "svd = TruncatedSVD(n_components = 2)\n",
    "lsa = svd.fit_transform(words)"
   ]
  },
  {
   "cell_type": "code",
   "execution_count": 33,
   "metadata": {},
   "outputs": [
    {
     "data": {
      "text/plain": [
       "['00', '000', '00000', '0000000', '0000001010011010â']"
      ]
     },
     "execution_count": 33,
     "metadata": {},
     "output_type": "execute_result"
    }
   ],
   "source": [
    "dictionary = vectorizer.get_feature_names()\n",
    "dictionary[:5]"
   ]
  },
  {
   "cell_type": "code",
   "execution_count": 88,
   "metadata": {},
   "outputs": [
    {
     "data": {
      "text/html": [
       "<div>\n",
       "<style scoped>\n",
       "    .dataframe tbody tr th:only-of-type {\n",
       "        vertical-align: middle;\n",
       "    }\n",
       "\n",
       "    .dataframe tbody tr th {\n",
       "        vertical-align: top;\n",
       "    }\n",
       "\n",
       "    .dataframe thead th {\n",
       "        text-align: right;\n",
       "    }\n",
       "</style>\n",
       "<table border=\"1\" class=\"dataframe\">\n",
       "  <thead>\n",
       "    <tr style=\"text-align: right;\">\n",
       "      <th></th>\n",
       "      <th>Topic 1</th>\n",
       "      <th>Topic 2</th>\n",
       "      <th>terms</th>\n",
       "      <th>abs_topic_1</th>\n",
       "      <th>abs_topic_2</th>\n",
       "    </tr>\n",
       "  </thead>\n",
       "  <tbody>\n",
       "    <tr>\n",
       "      <th>71891</th>\n",
       "      <td>1.804267e-01</td>\n",
       "      <td>-8.675351e-02</td>\n",
       "      <td>life</td>\n",
       "      <td>1.804267e-01</td>\n",
       "      <td>8.675351e-02</td>\n",
       "    </tr>\n",
       "    <tr>\n",
       "      <th>84869</th>\n",
       "      <td>1.558425e-01</td>\n",
       "      <td>-4.016094e-02</td>\n",
       "      <td>new</td>\n",
       "      <td>1.558425e-01</td>\n",
       "      <td>4.016094e-02</td>\n",
       "    </tr>\n",
       "    <tr>\n",
       "      <th>135511</th>\n",
       "      <td>1.126011e-01</td>\n",
       "      <td>-3.784467e-02</td>\n",
       "      <td>world</td>\n",
       "      <td>1.126011e-01</td>\n",
       "      <td>3.784467e-02</td>\n",
       "    </tr>\n",
       "    <tr>\n",
       "      <th>123651</th>\n",
       "      <td>1.105181e-01</td>\n",
       "      <td>-1.220252e-02</td>\n",
       "      <td>time</td>\n",
       "      <td>1.105181e-01</td>\n",
       "      <td>1.220252e-02</td>\n",
       "    </tr>\n",
       "    <tr>\n",
       "      <th>73621</th>\n",
       "      <td>1.093909e-01</td>\n",
       "      <td>-1.328170e-01</td>\n",
       "      <td>love</td>\n",
       "      <td>1.093909e-01</td>\n",
       "      <td>1.328170e-01</td>\n",
       "    </tr>\n",
       "    <tr>\n",
       "      <th>...</th>\n",
       "      <td>...</td>\n",
       "      <td>...</td>\n",
       "      <td>...</td>\n",
       "      <td>...</td>\n",
       "      <td>...</td>\n",
       "    </tr>\n",
       "    <tr>\n",
       "      <th>86530</th>\n",
       "      <td>2.108837e-07</td>\n",
       "      <td>-7.430681e-07</td>\n",
       "      <td>nuovo</td>\n",
       "      <td>2.108837e-07</td>\n",
       "      <td>7.430681e-07</td>\n",
       "    </tr>\n",
       "    <tr>\n",
       "      <th>75405</th>\n",
       "      <td>2.108837e-07</td>\n",
       "      <td>-7.430681e-07</td>\n",
       "      <td>malinteso</td>\n",
       "      <td>2.108837e-07</td>\n",
       "      <td>7.430681e-07</td>\n",
       "    </tr>\n",
       "    <tr>\n",
       "      <th>98868</th>\n",
       "      <td>2.108837e-07</td>\n",
       "      <td>-7.430681e-07</td>\n",
       "      <td>quando</td>\n",
       "      <td>2.108837e-07</td>\n",
       "      <td>7.430681e-07</td>\n",
       "    </tr>\n",
       "    <tr>\n",
       "      <th>104518</th>\n",
       "      <td>2.108837e-07</td>\n",
       "      <td>-7.430681e-07</td>\n",
       "      <td>ritrovarsi</td>\n",
       "      <td>2.108837e-07</td>\n",
       "      <td>7.430681e-07</td>\n",
       "    </tr>\n",
       "    <tr>\n",
       "      <th>61439</th>\n",
       "      <td>2.108837e-07</td>\n",
       "      <td>-7.430681e-07</td>\n",
       "      <td>incredibile</td>\n",
       "      <td>2.108837e-07</td>\n",
       "      <td>7.430681e-07</td>\n",
       "    </tr>\n",
       "  </tbody>\n",
       "</table>\n",
       "<p>115589 rows × 5 columns</p>\n",
       "</div>"
      ],
      "text/plain": [
       "             Topic 1       Topic 2        terms   abs_topic_1   abs_topic_2\n",
       "71891   1.804267e-01 -8.675351e-02         life  1.804267e-01  8.675351e-02\n",
       "84869   1.558425e-01 -4.016094e-02          new  1.558425e-01  4.016094e-02\n",
       "135511  1.126011e-01 -3.784467e-02        world  1.126011e-01  3.784467e-02\n",
       "123651  1.105181e-01 -1.220252e-02         time  1.105181e-01  1.220252e-02\n",
       "73621   1.093909e-01 -1.328170e-01         love  1.093909e-01  1.328170e-01\n",
       "...              ...           ...          ...           ...           ...\n",
       "86530   2.108837e-07 -7.430681e-07        nuovo  2.108837e-07  7.430681e-07\n",
       "75405   2.108837e-07 -7.430681e-07    malinteso  2.108837e-07  7.430681e-07\n",
       "98868   2.108837e-07 -7.430681e-07       quando  2.108837e-07  7.430681e-07\n",
       "104518  2.108837e-07 -7.430681e-07   ritrovarsi  2.108837e-07  7.430681e-07\n",
       "61439   2.108837e-07 -7.430681e-07  incredibile  2.108837e-07  7.430681e-07\n",
       "\n",
       "[115589 rows x 5 columns]"
      ]
     },
     "execution_count": 88,
     "metadata": {},
     "output_type": "execute_result"
    }
   ],
   "source": [
    "encoding_matrix = pd.DataFrame(svd.components_,index=['Topic 1','Topic 2']).T\n",
    "encoding_matrix[\"terms\"] = dictionary\n",
    "encoding_matrix['abs_topic_1'] = np.abs(encoding_matrix['Topic 1'])\n",
    "encoding_matrix['abs_topic_2'] = np.abs(encoding_matrix['Topic 2'])\n",
    "for i in ['0','1','2','3','4','5','6','7','8','9','è','ä','é','ã','ç','â','æ','ï','å','book','amazon','kindle']:\n",
    "    encoding_matrix = encoding_matrix[~encoding_matrix.terms.str.contains(i)]\n",
    "encoding_matrix.sort_values('abs_topic_1',ascending=False)"
   ]
  },
  {
   "cell_type": "code",
   "execution_count": 77,
   "metadata": {},
   "outputs": [
    {
     "data": {
      "text/html": [
       "<div>\n",
       "<style scoped>\n",
       "    .dataframe tbody tr th:only-of-type {\n",
       "        vertical-align: middle;\n",
       "    }\n",
       "\n",
       "    .dataframe tbody tr th {\n",
       "        vertical-align: top;\n",
       "    }\n",
       "\n",
       "    .dataframe thead th {\n",
       "        text-align: right;\n",
       "    }\n",
       "</style>\n",
       "<table border=\"1\" class=\"dataframe\">\n",
       "  <thead>\n",
       "    <tr style=\"text-align: right;\">\n",
       "      <th></th>\n",
       "      <th>Topic 1</th>\n",
       "      <th>Topic 2</th>\n",
       "      <th>terms</th>\n",
       "      <th>abs_topic_1</th>\n",
       "      <th>abs_topic_2</th>\n",
       "    </tr>\n",
       "  </thead>\n",
       "  <tbody>\n",
       "    <tr>\n",
       "      <th>39634</th>\n",
       "      <td>0.070447</td>\n",
       "      <td>2.310692e-01</td>\n",
       "      <td>edition</td>\n",
       "      <td>0.070447</td>\n",
       "      <td>2.310692e-01</td>\n",
       "    </tr>\n",
       "    <tr>\n",
       "      <th>134733</th>\n",
       "      <td>0.010897</td>\n",
       "      <td>1.846656e-01</td>\n",
       "      <td>wireless</td>\n",
       "      <td>0.010897</td>\n",
       "      <td>1.846656e-01</td>\n",
       "    </tr>\n",
       "    <tr>\n",
       "      <th>28603</th>\n",
       "      <td>0.010909</td>\n",
       "      <td>1.826018e-01</td>\n",
       "      <td>converted</td>\n",
       "      <td>0.010909</td>\n",
       "      <td>1.826018e-01</td>\n",
       "    </tr>\n",
       "    <tr>\n",
       "      <th>131817</th>\n",
       "      <td>0.011707</td>\n",
       "      <td>1.771555e-01</td>\n",
       "      <td>volunteers</td>\n",
       "      <td>0.011707</td>\n",
       "      <td>1.771555e-01</td>\n",
       "    </tr>\n",
       "    <tr>\n",
       "      <th>33630</th>\n",
       "      <td>0.012305</td>\n",
       "      <td>1.742386e-01</td>\n",
       "      <td>delivery</td>\n",
       "      <td>0.012305</td>\n",
       "      <td>1.742386e-01</td>\n",
       "    </tr>\n",
       "    <tr>\n",
       "      <th>...</th>\n",
       "      <td>...</td>\n",
       "      <td>...</td>\n",
       "      <td>...</td>\n",
       "      <td>...</td>\n",
       "      <td>...</td>\n",
       "    </tr>\n",
       "    <tr>\n",
       "      <th>80270</th>\n",
       "      <td>0.000012</td>\n",
       "      <td>3.940184e-09</td>\n",
       "      <td>minnigerode</td>\n",
       "      <td>0.000012</td>\n",
       "      <td>3.940184e-09</td>\n",
       "    </tr>\n",
       "    <tr>\n",
       "      <th>41469</th>\n",
       "      <td>0.000045</td>\n",
       "      <td>1.919063e-09</td>\n",
       "      <td>enhancer</td>\n",
       "      <td>0.000045</td>\n",
       "      <td>1.919063e-09</td>\n",
       "    </tr>\n",
       "    <tr>\n",
       "      <th>3748</th>\n",
       "      <td>0.000045</td>\n",
       "      <td>1.919063e-09</td>\n",
       "      <td>achive</td>\n",
       "      <td>0.000045</td>\n",
       "      <td>1.919063e-09</td>\n",
       "    </tr>\n",
       "    <tr>\n",
       "      <th>48753</th>\n",
       "      <td>0.000045</td>\n",
       "      <td>1.919063e-09</td>\n",
       "      <td>freitag</td>\n",
       "      <td>0.000045</td>\n",
       "      <td>1.919063e-09</td>\n",
       "    </tr>\n",
       "    <tr>\n",
       "      <th>118390</th>\n",
       "      <td>0.000045</td>\n",
       "      <td>1.919063e-09</td>\n",
       "      <td>successfull</td>\n",
       "      <td>0.000045</td>\n",
       "      <td>1.919063e-09</td>\n",
       "    </tr>\n",
       "  </tbody>\n",
       "</table>\n",
       "<p>115589 rows × 5 columns</p>\n",
       "</div>"
      ],
      "text/plain": [
       "         Topic 1       Topic 2        terms  abs_topic_1   abs_topic_2\n",
       "39634   0.070447  2.310692e-01      edition     0.070447  2.310692e-01\n",
       "134733  0.010897  1.846656e-01     wireless     0.010897  1.846656e-01\n",
       "28603   0.010909  1.826018e-01    converted     0.010909  1.826018e-01\n",
       "131817  0.011707  1.771555e-01   volunteers     0.011707  1.771555e-01\n",
       "33630   0.012305  1.742386e-01     delivery     0.012305  1.742386e-01\n",
       "...          ...           ...          ...          ...           ...\n",
       "80270   0.000012  3.940184e-09  minnigerode     0.000012  3.940184e-09\n",
       "41469   0.000045  1.919063e-09     enhancer     0.000045  1.919063e-09\n",
       "3748    0.000045  1.919063e-09       achive     0.000045  1.919063e-09\n",
       "48753   0.000045  1.919063e-09      freitag     0.000045  1.919063e-09\n",
       "118390  0.000045  1.919063e-09  successfull     0.000045  1.919063e-09\n",
       "\n",
       "[115589 rows x 5 columns]"
      ]
     },
     "execution_count": 77,
     "metadata": {},
     "output_type": "execute_result"
    }
   ],
   "source": [
    "encoding_matrix.sort_values('abs_topic_2',ascending=False)"
   ]
  },
  {
   "cell_type": "code",
   "execution_count": 89,
   "metadata": {
    "scrolled": true
   },
   "outputs": [
    {
     "data": {
      "text/html": [
       "<div>\n",
       "<style scoped>\n",
       "    .dataframe tbody tr th:only-of-type {\n",
       "        vertical-align: middle;\n",
       "    }\n",
       "\n",
       "    .dataframe tbody tr th {\n",
       "        vertical-align: top;\n",
       "    }\n",
       "\n",
       "    .dataframe thead th {\n",
       "        text-align: right;\n",
       "    }\n",
       "</style>\n",
       "<table border=\"1\" class=\"dataframe\">\n",
       "  <thead>\n",
       "    <tr style=\"text-align: right;\">\n",
       "      <th></th>\n",
       "      <th>url</th>\n",
       "      <th>title</th>\n",
       "      <th>author</th>\n",
       "      <th>price</th>\n",
       "      <th>save</th>\n",
       "      <th>pages</th>\n",
       "      <th>description</th>\n",
       "      <th>size</th>\n",
       "      <th>publisher</th>\n",
       "      <th>language</th>\n",
       "      <th>text_to_speech</th>\n",
       "      <th>x_ray</th>\n",
       "      <th>lending</th>\n",
       "      <th>customer_reviews</th>\n",
       "      <th>stars</th>\n",
       "      <th>abs_topic_1</th>\n",
       "      <th>abs_topic_2</th>\n",
       "    </tr>\n",
       "  </thead>\n",
       "  <tbody>\n",
       "    <tr>\n",
       "      <th>0</th>\n",
       "      <td>http://www.amazon.com/How-Bartender-Bartending...</td>\n",
       "      <td>How to be a Bartender: Get a Bartending Job Wi...</td>\n",
       "      <td>Dave Allred</td>\n",
       "      <td>9.99</td>\n",
       "      <td>NaN</td>\n",
       "      <td>171.0</td>\n",
       "      <td>In his revolutionary new book, Dave Allred (Th...</td>\n",
       "      <td>249.0</td>\n",
       "      <td>NaN</td>\n",
       "      <td>English</td>\n",
       "      <td>Enabled</td>\n",
       "      <td>Not Enabled</td>\n",
       "      <td>Enabled</td>\n",
       "      <td>23.0</td>\n",
       "      <td>4.9</td>\n",
       "      <td>0.159588</td>\n",
       "      <td>0.062463</td>\n",
       "    </tr>\n",
       "    <tr>\n",
       "      <th>1</th>\n",
       "      <td>http://www.amazon.com/Raise-Bar-Action-Based-C...</td>\n",
       "      <td>Raise the Bar: An Action-Based Method for Maxi...</td>\n",
       "      <td>Jon Taffer</td>\n",
       "      <td>2.00</td>\n",
       "      <td>24.00</td>\n",
       "      <td>258.0</td>\n",
       "      <td>If thereâs anyone who can prevent a bar or r...</td>\n",
       "      <td>1427.0</td>\n",
       "      <td>Amazon Publishing</td>\n",
       "      <td>English</td>\n",
       "      <td>Enabled</td>\n",
       "      <td>Enabled</td>\n",
       "      <td>Enabled</td>\n",
       "      <td>80.0</td>\n",
       "      <td>4.7</td>\n",
       "      <td>0.104866</td>\n",
       "      <td>0.050588</td>\n",
       "    </tr>\n",
       "    <tr>\n",
       "      <th>2</th>\n",
       "      <td>http://www.amazon.com/The-Professional-Bartend...</td>\n",
       "      <td>The Professional Bartender's Handbook: A Recip...</td>\n",
       "      <td>Valerie Mellema</td>\n",
       "      <td>9.87</td>\n",
       "      <td>12.08</td>\n",
       "      <td>288.0</td>\n",
       "      <td>The Professional Bartenders Handbook is writte...</td>\n",
       "      <td>5643.0</td>\n",
       "      <td>Atlantic Publishing Group Inc.; illustrated ed...</td>\n",
       "      <td>English</td>\n",
       "      <td>Enabled</td>\n",
       "      <td>Not Enabled</td>\n",
       "      <td>Not Enabled</td>\n",
       "      <td>32.0</td>\n",
       "      <td>4.2</td>\n",
       "      <td>0.188824</td>\n",
       "      <td>0.109196</td>\n",
       "    </tr>\n",
       "    <tr>\n",
       "      <th>3</th>\n",
       "      <td>http://www.amazon.com/Double-Your-Tips-Jerry-M...</td>\n",
       "      <td>How to Double Your Tips [Kindle Edition]</td>\n",
       "      <td>Jerry Minchey</td>\n",
       "      <td>2.99</td>\n",
       "      <td>NaN</td>\n",
       "      <td>36.0</td>\n",
       "      <td>How to Double Your Tips (For every waitress, w...</td>\n",
       "      <td>98.0</td>\n",
       "      <td>Stony River Media</td>\n",
       "      <td>English</td>\n",
       "      <td>Enabled</td>\n",
       "      <td>Not Enabled</td>\n",
       "      <td>Enabled</td>\n",
       "      <td>6.0</td>\n",
       "      <td>4.5</td>\n",
       "      <td>0.109612</td>\n",
       "      <td>0.073868</td>\n",
       "    </tr>\n",
       "    <tr>\n",
       "      <th>4</th>\n",
       "      <td>http://www.amazon.com/The-Bartenders-Bible-Mix...</td>\n",
       "      <td>The Bartender's Bible: 1001 Mixed Drinks [Kind...</td>\n",
       "      <td>Gary Regan</td>\n",
       "      <td>5.99</td>\n",
       "      <td>2.00</td>\n",
       "      <td>400.0</td>\n",
       "      <td>Mix Drinks Like A Pro Now you can with this in...</td>\n",
       "      <td>647.0</td>\n",
       "      <td>HarperCollins e-books</td>\n",
       "      <td>English</td>\n",
       "      <td>Enabled</td>\n",
       "      <td>Not Enabled</td>\n",
       "      <td>Not Enabled</td>\n",
       "      <td>59.0</td>\n",
       "      <td>3.6</td>\n",
       "      <td>0.073204</td>\n",
       "      <td>0.026062</td>\n",
       "    </tr>\n",
       "  </tbody>\n",
       "</table>\n",
       "</div>"
      ],
      "text/plain": [
       "                                                 url  \\\n",
       "0  http://www.amazon.com/How-Bartender-Bartending...   \n",
       "1  http://www.amazon.com/Raise-Bar-Action-Based-C...   \n",
       "2  http://www.amazon.com/The-Professional-Bartend...   \n",
       "3  http://www.amazon.com/Double-Your-Tips-Jerry-M...   \n",
       "4  http://www.amazon.com/The-Bartenders-Bible-Mix...   \n",
       "\n",
       "                                               title           author  price  \\\n",
       "0  How to be a Bartender: Get a Bartending Job Wi...      Dave Allred   9.99   \n",
       "1  Raise the Bar: An Action-Based Method for Maxi...       Jon Taffer   2.00   \n",
       "2  The Professional Bartender's Handbook: A Recip...  Valerie Mellema   9.87   \n",
       "3           How to Double Your Tips [Kindle Edition]    Jerry Minchey   2.99   \n",
       "4  The Bartender's Bible: 1001 Mixed Drinks [Kind...       Gary Regan   5.99   \n",
       "\n",
       "    save  pages                                        description    size  \\\n",
       "0    NaN  171.0  In his revolutionary new book, Dave Allred (Th...   249.0   \n",
       "1  24.00  258.0  If thereâs anyone who can prevent a bar or r...  1427.0   \n",
       "2  12.08  288.0  The Professional Bartenders Handbook is writte...  5643.0   \n",
       "3    NaN   36.0  How to Double Your Tips (For every waitress, w...    98.0   \n",
       "4   2.00  400.0  Mix Drinks Like A Pro Now you can with this in...   647.0   \n",
       "\n",
       "                                           publisher language text_to_speech  \\\n",
       "0                                                NaN  English        Enabled   \n",
       "1                                  Amazon Publishing  English        Enabled   \n",
       "2  Atlantic Publishing Group Inc.; illustrated ed...  English        Enabled   \n",
       "3                                  Stony River Media  English        Enabled   \n",
       "4                              HarperCollins e-books  English        Enabled   \n",
       "\n",
       "         x_ray      lending  customer_reviews  stars  abs_topic_1  abs_topic_2  \n",
       "0  Not Enabled      Enabled              23.0    4.9     0.159588     0.062463  \n",
       "1      Enabled      Enabled              80.0    4.7     0.104866     0.050588  \n",
       "2  Not Enabled  Not Enabled              32.0    4.2     0.188824     0.109196  \n",
       "3  Not Enabled      Enabled               6.0    4.5     0.109612     0.073868  \n",
       "4  Not Enabled  Not Enabled              59.0    3.6     0.073204     0.026062  "
      ]
     },
     "execution_count": 89,
     "metadata": {},
     "output_type": "execute_result"
    }
   ],
   "source": [
    "top_encoded_df = pd.DataFrame(lsa,columns = ['abs_topic_1','abs_topic_2'])\n",
    "top_encoded_df['description']=df['description']\n",
    "df['abs_topic_1']=top_encoded_df['abs_topic_1']\n",
    "df['abs_topic_2']=top_encoded_df['abs_topic_2']\n",
    "df.head()"
   ]
  },
  {
   "cell_type": "code",
   "execution_count": 90,
   "metadata": {},
   "outputs": [
    {
     "data": {
      "text/html": [
       "<div>\n",
       "<style scoped>\n",
       "    .dataframe tbody tr th:only-of-type {\n",
       "        vertical-align: middle;\n",
       "    }\n",
       "\n",
       "    .dataframe tbody tr th {\n",
       "        vertical-align: top;\n",
       "    }\n",
       "\n",
       "    .dataframe thead th {\n",
       "        text-align: right;\n",
       "    }\n",
       "</style>\n",
       "<table border=\"1\" class=\"dataframe\">\n",
       "  <thead>\n",
       "    <tr style=\"text-align: right;\">\n",
       "      <th></th>\n",
       "      <th>price</th>\n",
       "      <th>pages</th>\n",
       "      <th>size</th>\n",
       "      <th>customer_reviews</th>\n",
       "      <th>stars</th>\n",
       "      <th>abs_topic_1</th>\n",
       "      <th>abs_topic_2</th>\n",
       "      <th>dummy</th>\n",
       "      <th>text_to_speech_Enabled</th>\n",
       "      <th>x_ray_Enabled</th>\n",
       "      <th>lending_Enabled</th>\n",
       "    </tr>\n",
       "  </thead>\n",
       "  <tbody>\n",
       "    <tr>\n",
       "      <th>0</th>\n",
       "      <td>9.99</td>\n",
       "      <td>171.0</td>\n",
       "      <td>249.0</td>\n",
       "      <td>23.0</td>\n",
       "      <td>4.9</td>\n",
       "      <td>0.159588</td>\n",
       "      <td>0.062463</td>\n",
       "      <td>0</td>\n",
       "      <td>1</td>\n",
       "      <td>0</td>\n",
       "      <td>1</td>\n",
       "    </tr>\n",
       "    <tr>\n",
       "      <th>1</th>\n",
       "      <td>2.00</td>\n",
       "      <td>258.0</td>\n",
       "      <td>1427.0</td>\n",
       "      <td>80.0</td>\n",
       "      <td>4.7</td>\n",
       "      <td>0.104866</td>\n",
       "      <td>0.050588</td>\n",
       "      <td>0</td>\n",
       "      <td>1</td>\n",
       "      <td>1</td>\n",
       "      <td>1</td>\n",
       "    </tr>\n",
       "    <tr>\n",
       "      <th>2</th>\n",
       "      <td>9.87</td>\n",
       "      <td>288.0</td>\n",
       "      <td>5643.0</td>\n",
       "      <td>32.0</td>\n",
       "      <td>4.2</td>\n",
       "      <td>0.188824</td>\n",
       "      <td>0.109196</td>\n",
       "      <td>0</td>\n",
       "      <td>1</td>\n",
       "      <td>0</td>\n",
       "      <td>0</td>\n",
       "    </tr>\n",
       "    <tr>\n",
       "      <th>3</th>\n",
       "      <td>2.99</td>\n",
       "      <td>36.0</td>\n",
       "      <td>98.0</td>\n",
       "      <td>6.0</td>\n",
       "      <td>4.5</td>\n",
       "      <td>0.109612</td>\n",
       "      <td>0.073868</td>\n",
       "      <td>0</td>\n",
       "      <td>1</td>\n",
       "      <td>0</td>\n",
       "      <td>1</td>\n",
       "    </tr>\n",
       "    <tr>\n",
       "      <th>4</th>\n",
       "      <td>5.99</td>\n",
       "      <td>400.0</td>\n",
       "      <td>647.0</td>\n",
       "      <td>59.0</td>\n",
       "      <td>3.6</td>\n",
       "      <td>0.073204</td>\n",
       "      <td>0.026062</td>\n",
       "      <td>0</td>\n",
       "      <td>1</td>\n",
       "      <td>0</td>\n",
       "      <td>0</td>\n",
       "    </tr>\n",
       "  </tbody>\n",
       "</table>\n",
       "</div>"
      ],
      "text/plain": [
       "   price  pages    size  customer_reviews  stars  abs_topic_1  abs_topic_2  \\\n",
       "0   9.99  171.0   249.0              23.0    4.9     0.159588     0.062463   \n",
       "1   2.00  258.0  1427.0              80.0    4.7     0.104866     0.050588   \n",
       "2   9.87  288.0  5643.0              32.0    4.2     0.188824     0.109196   \n",
       "3   2.99   36.0    98.0               6.0    4.5     0.109612     0.073868   \n",
       "4   5.99  400.0   647.0              59.0    3.6     0.073204     0.026062   \n",
       "\n",
       "   dummy  text_to_speech_Enabled  x_ray_Enabled  lending_Enabled  \n",
       "0      0                       1              0                1  \n",
       "1      0                       1              1                1  \n",
       "2      0                       1              0                0  \n",
       "3      0                       1              0                1  \n",
       "4      0                       1              0                0  "
      ]
     },
     "execution_count": 90,
     "metadata": {},
     "output_type": "execute_result"
    }
   ],
   "source": [
    "df['dummy'] = df['stars'].apply(lambda x: 1 if x==5 else 0)\n",
    "df.drop(['url','save','publisher','description','title','author','language'], axis='columns', inplace=True)\n",
    "df = pd.get_dummies(df)\n",
    "df.drop(['text_to_speech_Not enabled','x_ray_Not Enabled','lending_Not Enabled'], axis='columns', inplace=True)\n",
    "df.head()"
   ]
  },
  {
   "cell_type": "code",
   "execution_count": 40,
   "metadata": {},
   "outputs": [
    {
     "data": {
      "text/plain": [
       "<AxesSubplot:>"
      ]
     },
     "execution_count": 40,
     "metadata": {},
     "output_type": "execute_result"
    },
    {
     "data": {
      "image/png": "[encoded data removed]",
      "text/plain": [
       "<Figure size 864x504 with 2 Axes>"
      ]
     },
     "metadata": {
      "needs_background": "light"
     },
     "output_type": "display_data"
    }
   ],
   "source": [
    "corr=df.corr()\n",
    "mask = np.zeros_like(corr)\n",
    "mask[np.triu_indices_from(mask)] = True\n",
    "plt.figure(figsize=(12,7))\n",
    "sns.heatmap(corr, mask = mask, annot=True, center=0, cmap=\"YlGnBu\")"
   ]
  },
  {
   "cell_type": "code",
   "execution_count": 80,
   "metadata": {},
   "outputs": [],
   "source": [
    "train,test = train_test_split(df, test_size=0.2,stratify = df['dummy'])\n",
    "X_cols = ['price', 'pages', 'size', 'customer_reviews', 'text_to_speech_Enabled', 'x_ray_Enabled', 'lending_Enabled','abs_topic_1','abs_topic_2']\n",
    "X_train, X_test = train[X_cols], test[X_cols]\n",
    "y_train, y_test = train['dummy'], test['dummy']\n",
    "num_cols = ['price', 'pages', 'size', 'customer_reviews','abs_topic_1','abs_topic_2']\n",
    "train_median = X_train[num_cols].median()\n",
    "X_train[num_cols]=X_train[num_cols].fillna(train_median)\n",
    "X_test[num_cols]=X_test[num_cols].fillna(train_median)"
   ]
  },
  {
   "cell_type": "code",
   "execution_count": 81,
   "metadata": {},
   "outputs": [
    {
     "name": "stdout",
     "output_type": "stream",
     "text": [
      "Regressão:  RandomForestClassifier\n",
      "Score:  0.9427845528455284\n",
      "ROC AUC:  0.9063387204885678\n",
      "================================================================================\n",
      "Regressão:  GaussianNB\n",
      "Score:  0.6959349593495935\n",
      "ROC AUC:  0.8648974082073434\n",
      "================================================================================\n",
      "Regressão:  LogisticRegression\n",
      "Score:  0.9410569105691057\n",
      "ROC AUC:  0.9171750949579206\n",
      "================================================================================\n",
      "Regressão:  DecisionTreeClassifier\n",
      "Score:  0.9163617886178862\n",
      "ROC AUC:  0.637988754003128\n",
      "================================================================================\n"
     ]
    }
   ],
   "source": [
    "regs = [RandomForestClassifier(),GaussianNB(),LogisticRegression(),DecisionTreeClassifier()]\n",
    "for reg in regs:\n",
    "    print(\"Regressão: \", reg.__class__.__name__)\n",
    "    reg = reg\n",
    "    reg.fit(X_train, y_train)\n",
    "    print(\"Score: \", reg.score(X_test, y_test))\n",
    "    y_proba_test = reg.predict_proba(X_test)\n",
    "    roc_test = roc_auc_score(y_test, y_proba_test[:, 1])\n",
    "    print(\"ROC AUC: \", roc_test)\n",
    "    print(\"=\"*80)"
   ]
  },
  {
   "cell_type": "code",
   "execution_count": 44,
   "metadata": {},
   "outputs": [
    {
     "data": {
      "text/html": [
       "<div>\n",
       "<style scoped>\n",
       "    .dataframe tbody tr th:only-of-type {\n",
       "        vertical-align: middle;\n",
       "    }\n",
       "\n",
       "    .dataframe tbody tr th {\n",
       "        vertical-align: top;\n",
       "    }\n",
       "\n",
       "    .dataframe thead th {\n",
       "        text-align: right;\n",
       "    }\n",
       "</style>\n",
       "<table border=\"1\" class=\"dataframe\">\n",
       "  <thead>\n",
       "    <tr style=\"text-align: right;\">\n",
       "      <th></th>\n",
       "      <th>column</th>\n",
       "      <th>relevance</th>\n",
       "    </tr>\n",
       "  </thead>\n",
       "  <tbody>\n",
       "    <tr>\n",
       "      <th>3</th>\n",
       "      <td>customer_reviews</td>\n",
       "      <td>0.284129</td>\n",
       "    </tr>\n",
       "    <tr>\n",
       "      <th>2</th>\n",
       "      <td>size</td>\n",
       "      <td>0.160456</td>\n",
       "    </tr>\n",
       "    <tr>\n",
       "      <th>7</th>\n",
       "      <td>abs_topic_1</td>\n",
       "      <td>0.160262</td>\n",
       "    </tr>\n",
       "    <tr>\n",
       "      <th>8</th>\n",
       "      <td>abs_topic_2</td>\n",
       "      <td>0.143858</td>\n",
       "    </tr>\n",
       "    <tr>\n",
       "      <th>1</th>\n",
       "      <td>pages</td>\n",
       "      <td>0.139495</td>\n",
       "    </tr>\n",
       "  </tbody>\n",
       "</table>\n",
       "</div>"
      ],
      "text/plain": [
       "             column  relevance\n",
       "3  customer_reviews   0.284129\n",
       "2              size   0.160456\n",
       "7       abs_topic_1   0.160262\n",
       "8       abs_topic_2   0.143858\n",
       "1             pages   0.139495"
      ]
     },
     "execution_count": 44,
     "metadata": {},
     "output_type": "execute_result"
    }
   ],
   "source": [
    "reg = DecisionTreeClassifier()\n",
    "reg.fit(X_train, y_train)\n",
    "clf=pd.DataFrame(list(zip(X_train.columns, reg.feature_importances_)), columns=['column', 'relevance'])\n",
    "clf.sort_values('relevance', ascending=False).head()"
   ]
  },
  {
   "cell_type": "code",
   "execution_count": 45,
   "metadata": {},
   "outputs": [
    {
     "data": {
      "text/html": [
       "<div>\n",
       "<style scoped>\n",
       "    .dataframe tbody tr th:only-of-type {\n",
       "        vertical-align: middle;\n",
       "    }\n",
       "\n",
       "    .dataframe tbody tr th {\n",
       "        vertical-align: top;\n",
       "    }\n",
       "\n",
       "    .dataframe thead th {\n",
       "        text-align: right;\n",
       "    }\n",
       "</style>\n",
       "<table border=\"1\" class=\"dataframe\">\n",
       "  <thead>\n",
       "    <tr style=\"text-align: right;\">\n",
       "      <th></th>\n",
       "      <th>column</th>\n",
       "      <th>relevance</th>\n",
       "    </tr>\n",
       "  </thead>\n",
       "  <tbody>\n",
       "    <tr>\n",
       "      <th>3</th>\n",
       "      <td>customer_reviews</td>\n",
       "      <td>0.286046</td>\n",
       "    </tr>\n",
       "    <tr>\n",
       "      <th>7</th>\n",
       "      <td>abs_topic_1</td>\n",
       "      <td>0.152174</td>\n",
       "    </tr>\n",
       "    <tr>\n",
       "      <th>8</th>\n",
       "      <td>abs_topic_2</td>\n",
       "      <td>0.151571</td>\n",
       "    </tr>\n",
       "    <tr>\n",
       "      <th>2</th>\n",
       "      <td>size</td>\n",
       "      <td>0.145559</td>\n",
       "    </tr>\n",
       "    <tr>\n",
       "      <th>1</th>\n",
       "      <td>pages</td>\n",
       "      <td>0.138727</td>\n",
       "    </tr>\n",
       "  </tbody>\n",
       "</table>\n",
       "</div>"
      ],
      "text/plain": [
       "             column  relevance\n",
       "3  customer_reviews   0.286046\n",
       "7       abs_topic_1   0.152174\n",
       "8       abs_topic_2   0.151571\n",
       "2              size   0.145559\n",
       "1             pages   0.138727"
      ]
     },
     "execution_count": 45,
     "metadata": {},
     "output_type": "execute_result"
    }
   ],
   "source": [
    "reg = RandomForestClassifier()\n",
    "reg.fit(X_train, y_train)\n",
    "clf=pd.DataFrame(list(zip(X_train.columns, reg.feature_importances_)), columns=['column', 'relevance'])\n",
    "clf.sort_values('relevance', ascending=False).head()"
   ]
  },
  {
   "cell_type": "code",
   "execution_count": 46,
   "metadata": {},
   "outputs": [
    {
     "name": "stdout",
     "output_type": "stream",
     "text": [
      "ROC AUC de Teste é DecisionTreeClassifier é 85.73%\n"
     ]
    },
    {
     "data": {
      "text/plain": [
       "[Text(558.0, 453.0, 'customer_reviews <= 3.5\\ngini = 0.111\\nsamples = 39357\\nvalue = [37036, 2321]'),\n",
       " Text(279.0, 271.8, 'customer_reviews <= 1.5\\ngini = 0.487\\nsamples = 3274\\nvalue = [1899, 1375]'),\n",
       " Text(139.5, 90.59999999999997, 'gini = 0.483\\nsamples = 1055\\nvalue = [431, 624]'),\n",
       " Text(418.5, 90.59999999999997, 'gini = 0.448\\nsamples = 2219\\nvalue = [1468, 751]'),\n",
       " Text(837.0, 271.8, 'customer_reviews <= 8.5\\ngini = 0.051\\nsamples = 36083\\nvalue = [35137, 946]'),\n",
       " Text(697.5, 90.59999999999997, 'gini = 0.226\\nsamples = 4558\\nvalue = [3966, 592]'),\n",
       " Text(976.5, 90.59999999999997, 'gini = 0.022\\nsamples = 31525\\nvalue = [31171, 354]')]"
      ]
     },
     "execution_count": 46,
     "metadata": {},
     "output_type": "execute_result"
    },
    {
     "data": {
      "image/png": "[encoded data removed]",
      "text/plain": [
       "<Figure size 1440x720 with 1 Axes>"
      ]
     },
     "metadata": {
      "needs_background": "light"
     },
     "output_type": "display_data"
    }
   ],
   "source": [
    "from sklearn import tree\n",
    "clf = DecisionTreeClassifier(max_depth=2)\n",
    "clf.fit(X_train, y_train) \n",
    "y_proba = clf.predict_proba(X_test)\n",
    "roc_auc=roc_auc_score(y_test, y_proba[:, 1])\n",
    "\n",
    "print(f'ROC AUC de Teste é {clf.__class__.__name__} é {roc_auc*100:.2f}%')\n",
    "\n",
    "plt.figure(figsize=(20,10))\n",
    "tree.plot_tree(clf,feature_names=X_train.columns,filled=True)"
   ]
  },
  {
   "cell_type": "code",
   "execution_count": 47,
   "metadata": {},
   "outputs": [
    {
     "name": "stdout",
     "output_type": "stream",
     "text": [
      "              precision    recall  f1-score   support\n",
      "\n",
      "           0       0.96      0.96      0.96      9260\n",
      "           1       0.32      0.33      0.33       580\n",
      "\n",
      "    accuracy                           0.92      9840\n",
      "   macro avg       0.64      0.64      0.64      9840\n",
      "weighted avg       0.92      0.92      0.92      9840\n",
      "\n"
     ]
    },
    {
     "data": {
      "image/png": "[encoded data removed]",
      "text/plain": [
       "<Figure size 432x288 with 2 Axes>"
      ]
     },
     "metadata": {
      "needs_background": "light"
     },
     "output_type": "display_data"
    }
   ],
   "source": [
    "reg = DecisionTreeClassifier()\n",
    "reg.fit(X_train, y_train)\n",
    "y_pred=reg.predict(X_test)\n",
    "cm=confusion_matrix(y_test, y_pred)\n",
    "sns.heatmap(cm, annot=True, fmt='g')\n",
    "plt.xlabel('Predição( 1 ou 0)')\n",
    "plt.ylabel('Real ( 1 ou 0)')\n",
    "print(classification_report(y_test, y_pred))"
   ]
  },
  {
   "cell_type": "code",
   "execution_count": 48,
   "metadata": {},
   "outputs": [
    {
     "name": "stdout",
     "output_type": "stream",
     "text": [
      "              precision    recall  f1-score   support\n",
      "\n",
      "           0       0.99      0.71      0.82      9260\n",
      "           1       0.16      0.91      0.28       580\n",
      "\n",
      "    accuracy                           0.72      9840\n",
      "   macro avg       0.58      0.81      0.55      9840\n",
      "weighted avg       0.94      0.72      0.79      9840\n",
      "\n"
     ]
    },
    {
     "data": {
      "image/png": "[encoded data removed]",
      "text/plain": [
       "<Figure size 432x288 with 2 Axes>"
      ]
     },
     "metadata": {
      "needs_background": "light"
     },
     "output_type": "display_data"
    }
   ],
   "source": [
    "reg = GaussianNB()\n",
    "reg.fit(X_train, y_train)\n",
    "y_pred=reg.predict(X_test)\n",
    "cm=confusion_matrix(y_test, y_pred)\n",
    "sns.heatmap(cm, annot=True, fmt='g')\n",
    "plt.xlabel('Predição( 1 ou 0)')\n",
    "plt.ylabel('Real ( 1 ou 0)')\n",
    "print(classification_report(y_test, y_pred))"
   ]
  },
  {
   "cell_type": "code",
   "execution_count": 49,
   "metadata": {},
   "outputs": [
    {
     "name": "stdout",
     "output_type": "stream",
     "text": [
      "              precision    recall  f1-score   support\n",
      "\n",
      "           0       0.94      1.00      0.97      9260\n",
      "           1       0.00      0.00      0.00       580\n",
      "\n",
      "    accuracy                           0.94      9840\n",
      "   macro avg       0.47      0.50      0.48      9840\n",
      "weighted avg       0.89      0.94      0.91      9840\n",
      "\n"
     ]
    },
    {
     "data": {
      "image/png": "[encoded data removed]",
      "text/plain": [
       "<Figure size 432x288 with 2 Axes>"
      ]
     },
     "metadata": {
      "needs_background": "light"
     },
     "output_type": "display_data"
    }
   ],
   "source": [
    "reg = LogisticRegression()\n",
    "reg.fit(X_train, y_train)\n",
    "y_pred=reg.predict(X_test)\n",
    "cm=confusion_matrix(y_test, y_pred)\n",
    "sns.heatmap(cm, annot=True, fmt='g')\n",
    "plt.xlabel('Predição( 1 ou 0)')\n",
    "plt.ylabel('Real ( 1 ou 0)')\n",
    "print(classification_report(y_test, y_pred))"
   ]
  },
  {
   "cell_type": "code",
   "execution_count": 50,
   "metadata": {},
   "outputs": [
    {
     "name": "stdout",
     "output_type": "stream",
     "text": [
      "              precision    recall  f1-score   support\n",
      "\n",
      "           0       0.95      0.99      0.97      9260\n",
      "           1       0.57      0.24      0.34       580\n",
      "\n",
      "    accuracy                           0.94      9840\n",
      "   macro avg       0.76      0.62      0.66      9840\n",
      "weighted avg       0.93      0.94      0.93      9840\n",
      "\n"
     ]
    },
    {
     "data": {
      "image/png": "[encoded data removed]",
      "text/plain": [
       "<Figure size 432x288 with 2 Axes>"
      ]
     },
     "metadata": {
      "needs_background": "light"
     },
     "output_type": "display_data"
    }
   ],
   "source": [
    "reg = RandomForestClassifier()\n",
    "reg.fit(X_train, y_train)\n",
    "y_pred=reg.predict(X_test)\n",
    "cm=confusion_matrix(y_test, y_pred)\n",
    "sns.heatmap(cm, annot=True, fmt='g')\n",
    "plt.xlabel('Predição( 1 ou 0)')\n",
    "plt.ylabel('Real ( 1 ou 0)')\n",
    "print(classification_report(y_test, y_pred))"
   ]
  },
  {
   "cell_type": "code",
   "execution_count": null,
   "metadata": {},
   "outputs": [],
   "source": [
    "================================================================================================================================"
   ]
  },
  {
   "cell_type": "code",
   "execution_count": 91,
   "metadata": {},
   "outputs": [
    {
     "data": {
      "text/html": [
       "<div>\n",
       "<style scoped>\n",
       "    .dataframe tbody tr th:only-of-type {\n",
       "        vertical-align: middle;\n",
       "    }\n",
       "\n",
       "    .dataframe tbody tr th {\n",
       "        vertical-align: top;\n",
       "    }\n",
       "\n",
       "    .dataframe thead th {\n",
       "        text-align: right;\n",
       "    }\n",
       "</style>\n",
       "<table border=\"1\" class=\"dataframe\">\n",
       "  <thead>\n",
       "    <tr style=\"text-align: right;\">\n",
       "      <th></th>\n",
       "      <th>price</th>\n",
       "      <th>pages</th>\n",
       "      <th>size</th>\n",
       "      <th>customer_reviews</th>\n",
       "      <th>stars</th>\n",
       "      <th>abs_topic_1</th>\n",
       "      <th>abs_topic_2</th>\n",
       "      <th>dummy</th>\n",
       "      <th>text_to_speech_Enabled</th>\n",
       "      <th>x_ray_Enabled</th>\n",
       "      <th>lending_Enabled</th>\n",
       "    </tr>\n",
       "  </thead>\n",
       "  <tbody>\n",
       "    <tr>\n",
       "      <th>0</th>\n",
       "      <td>9.99</td>\n",
       "      <td>171.0</td>\n",
       "      <td>249.0</td>\n",
       "      <td>23.0</td>\n",
       "      <td>4.9</td>\n",
       "      <td>0.159588</td>\n",
       "      <td>0.062463</td>\n",
       "      <td>0</td>\n",
       "      <td>1</td>\n",
       "      <td>0</td>\n",
       "      <td>1</td>\n",
       "    </tr>\n",
       "    <tr>\n",
       "      <th>1</th>\n",
       "      <td>2.00</td>\n",
       "      <td>258.0</td>\n",
       "      <td>1427.0</td>\n",
       "      <td>80.0</td>\n",
       "      <td>4.7</td>\n",
       "      <td>0.104866</td>\n",
       "      <td>0.050588</td>\n",
       "      <td>0</td>\n",
       "      <td>1</td>\n",
       "      <td>1</td>\n",
       "      <td>1</td>\n",
       "    </tr>\n",
       "    <tr>\n",
       "      <th>2</th>\n",
       "      <td>9.87</td>\n",
       "      <td>288.0</td>\n",
       "      <td>5643.0</td>\n",
       "      <td>32.0</td>\n",
       "      <td>4.2</td>\n",
       "      <td>0.188824</td>\n",
       "      <td>0.109196</td>\n",
       "      <td>0</td>\n",
       "      <td>1</td>\n",
       "      <td>0</td>\n",
       "      <td>0</td>\n",
       "    </tr>\n",
       "    <tr>\n",
       "      <th>3</th>\n",
       "      <td>2.99</td>\n",
       "      <td>36.0</td>\n",
       "      <td>98.0</td>\n",
       "      <td>6.0</td>\n",
       "      <td>4.5</td>\n",
       "      <td>0.109612</td>\n",
       "      <td>0.073868</td>\n",
       "      <td>0</td>\n",
       "      <td>1</td>\n",
       "      <td>0</td>\n",
       "      <td>1</td>\n",
       "    </tr>\n",
       "    <tr>\n",
       "      <th>4</th>\n",
       "      <td>5.99</td>\n",
       "      <td>400.0</td>\n",
       "      <td>647.0</td>\n",
       "      <td>59.0</td>\n",
       "      <td>3.6</td>\n",
       "      <td>0.073204</td>\n",
       "      <td>0.026062</td>\n",
       "      <td>0</td>\n",
       "      <td>1</td>\n",
       "      <td>0</td>\n",
       "      <td>0</td>\n",
       "    </tr>\n",
       "    <tr>\n",
       "      <th>...</th>\n",
       "      <td>...</td>\n",
       "      <td>...</td>\n",
       "      <td>...</td>\n",
       "      <td>...</td>\n",
       "      <td>...</td>\n",
       "      <td>...</td>\n",
       "      <td>...</td>\n",
       "      <td>...</td>\n",
       "      <td>...</td>\n",
       "      <td>...</td>\n",
       "      <td>...</td>\n",
       "    </tr>\n",
       "    <tr>\n",
       "      <th>49192</th>\n",
       "      <td>6.99</td>\n",
       "      <td>256.0</td>\n",
       "      <td>3416.0</td>\n",
       "      <td>14.0</td>\n",
       "      <td>4.3</td>\n",
       "      <td>0.115726</td>\n",
       "      <td>-0.035060</td>\n",
       "      <td>0</td>\n",
       "      <td>1</td>\n",
       "      <td>0</td>\n",
       "      <td>1</td>\n",
       "    </tr>\n",
       "    <tr>\n",
       "      <th>49193</th>\n",
       "      <td>9.99</td>\n",
       "      <td>243.0</td>\n",
       "      <td>355.0</td>\n",
       "      <td>8.0</td>\n",
       "      <td>3.8</td>\n",
       "      <td>0.048436</td>\n",
       "      <td>-0.005483</td>\n",
       "      <td>0</td>\n",
       "      <td>1</td>\n",
       "      <td>0</td>\n",
       "      <td>1</td>\n",
       "    </tr>\n",
       "    <tr>\n",
       "      <th>49194</th>\n",
       "      <td>6.50</td>\n",
       "      <td>70.0</td>\n",
       "      <td>773.0</td>\n",
       "      <td>2.0</td>\n",
       "      <td>4.0</td>\n",
       "      <td>0.108420</td>\n",
       "      <td>0.048528</td>\n",
       "      <td>0</td>\n",
       "      <td>1</td>\n",
       "      <td>0</td>\n",
       "      <td>1</td>\n",
       "    </tr>\n",
       "    <tr>\n",
       "      <th>49195</th>\n",
       "      <td>10.49</td>\n",
       "      <td>210.0</td>\n",
       "      <td>3873.0</td>\n",
       "      <td>NaN</td>\n",
       "      <td>NaN</td>\n",
       "      <td>0.046832</td>\n",
       "      <td>0.025263</td>\n",
       "      <td>0</td>\n",
       "      <td>1</td>\n",
       "      <td>0</td>\n",
       "      <td>1</td>\n",
       "    </tr>\n",
       "    <tr>\n",
       "      <th>49196</th>\n",
       "      <td>6.99</td>\n",
       "      <td>41.0</td>\n",
       "      <td>1239.0</td>\n",
       "      <td>NaN</td>\n",
       "      <td>NaN</td>\n",
       "      <td>0.052451</td>\n",
       "      <td>0.044081</td>\n",
       "      <td>0</td>\n",
       "      <td>1</td>\n",
       "      <td>0</td>\n",
       "      <td>1</td>\n",
       "    </tr>\n",
       "  </tbody>\n",
       "</table>\n",
       "<p>49197 rows × 11 columns</p>\n",
       "</div>"
      ],
      "text/plain": [
       "       price  pages    size  customer_reviews  stars  abs_topic_1  \\\n",
       "0       9.99  171.0   249.0              23.0    4.9     0.159588   \n",
       "1       2.00  258.0  1427.0              80.0    4.7     0.104866   \n",
       "2       9.87  288.0  5643.0              32.0    4.2     0.188824   \n",
       "3       2.99   36.0    98.0               6.0    4.5     0.109612   \n",
       "4       5.99  400.0   647.0              59.0    3.6     0.073204   \n",
       "...      ...    ...     ...               ...    ...          ...   \n",
       "49192   6.99  256.0  3416.0              14.0    4.3     0.115726   \n",
       "49193   9.99  243.0   355.0               8.0    3.8     0.048436   \n",
       "49194   6.50   70.0   773.0               2.0    4.0     0.108420   \n",
       "49195  10.49  210.0  3873.0               NaN    NaN     0.046832   \n",
       "49196   6.99   41.0  1239.0               NaN    NaN     0.052451   \n",
       "\n",
       "       abs_topic_2  dummy  text_to_speech_Enabled  x_ray_Enabled  \\\n",
       "0         0.062463      0                       1              0   \n",
       "1         0.050588      0                       1              1   \n",
       "2         0.109196      0                       1              0   \n",
       "3         0.073868      0                       1              0   \n",
       "4         0.026062      0                       1              0   \n",
       "...            ...    ...                     ...            ...   \n",
       "49192    -0.035060      0                       1              0   \n",
       "49193    -0.005483      0                       1              0   \n",
       "49194     0.048528      0                       1              0   \n",
       "49195     0.025263      0                       1              0   \n",
       "49196     0.044081      0                       1              0   \n",
       "\n",
       "       lending_Enabled  \n",
       "0                    1  \n",
       "1                    1  \n",
       "2                    0  \n",
       "3                    1  \n",
       "4                    0  \n",
       "...                ...  \n",
       "49192                1  \n",
       "49193                1  \n",
       "49194                1  \n",
       "49195                1  \n",
       "49196                1  \n",
       "\n",
       "[49197 rows x 11 columns]"
      ]
     },
     "execution_count": 91,
     "metadata": {},
     "output_type": "execute_result"
    }
   ],
   "source": [
    "df"
   ]
  },
  {
   "cell_type": "code",
   "execution_count": 92,
   "metadata": {},
   "outputs": [
    {
     "data": {
      "text/html": [
       "<div>\n",
       "<style scoped>\n",
       "    .dataframe tbody tr th:only-of-type {\n",
       "        vertical-align: middle;\n",
       "    }\n",
       "\n",
       "    .dataframe tbody tr th {\n",
       "        vertical-align: top;\n",
       "    }\n",
       "\n",
       "    .dataframe thead th {\n",
       "        text-align: right;\n",
       "    }\n",
       "</style>\n",
       "<table border=\"1\" class=\"dataframe\">\n",
       "  <thead>\n",
       "    <tr style=\"text-align: right;\">\n",
       "      <th></th>\n",
       "      <th>price</th>\n",
       "      <th>pages</th>\n",
       "      <th>size</th>\n",
       "      <th>customer_reviews</th>\n",
       "      <th>stars</th>\n",
       "      <th>abs_topic_1</th>\n",
       "      <th>abs_topic_2</th>\n",
       "      <th>dummy</th>\n",
       "      <th>text_to_speech_Enabled</th>\n",
       "      <th>x_ray_Enabled</th>\n",
       "      <th>lending_Enabled</th>\n",
       "    </tr>\n",
       "  </thead>\n",
       "  <tbody>\n",
       "    <tr>\n",
       "      <th>0</th>\n",
       "      <td>2.301585</td>\n",
       "      <td>5.141664</td>\n",
       "      <td>5.517453</td>\n",
       "      <td>3.135494</td>\n",
       "      <td>4.9</td>\n",
       "      <td>0.159588</td>\n",
       "      <td>0.062463</td>\n",
       "      <td>0</td>\n",
       "      <td>1</td>\n",
       "      <td>0</td>\n",
       "      <td>1</td>\n",
       "    </tr>\n",
       "    <tr>\n",
       "      <th>1</th>\n",
       "      <td>0.693147</td>\n",
       "      <td>5.552960</td>\n",
       "      <td>7.263330</td>\n",
       "      <td>4.382027</td>\n",
       "      <td>4.7</td>\n",
       "      <td>0.104866</td>\n",
       "      <td>0.050588</td>\n",
       "      <td>0</td>\n",
       "      <td>1</td>\n",
       "      <td>1</td>\n",
       "      <td>1</td>\n",
       "    </tr>\n",
       "    <tr>\n",
       "      <th>2</th>\n",
       "      <td>2.289500</td>\n",
       "      <td>5.662960</td>\n",
       "      <td>8.638171</td>\n",
       "      <td>3.465736</td>\n",
       "      <td>4.2</td>\n",
       "      <td>0.188824</td>\n",
       "      <td>0.109196</td>\n",
       "      <td>0</td>\n",
       "      <td>1</td>\n",
       "      <td>0</td>\n",
       "      <td>0</td>\n",
       "    </tr>\n",
       "    <tr>\n",
       "      <th>3</th>\n",
       "      <td>1.095273</td>\n",
       "      <td>3.583519</td>\n",
       "      <td>4.584967</td>\n",
       "      <td>1.791759</td>\n",
       "      <td>4.5</td>\n",
       "      <td>0.109612</td>\n",
       "      <td>0.073868</td>\n",
       "      <td>0</td>\n",
       "      <td>1</td>\n",
       "      <td>0</td>\n",
       "      <td>1</td>\n",
       "    </tr>\n",
       "    <tr>\n",
       "      <th>4</th>\n",
       "      <td>1.790091</td>\n",
       "      <td>5.991465</td>\n",
       "      <td>6.472346</td>\n",
       "      <td>4.077537</td>\n",
       "      <td>3.6</td>\n",
       "      <td>0.073204</td>\n",
       "      <td>0.026062</td>\n",
       "      <td>0</td>\n",
       "      <td>1</td>\n",
       "      <td>0</td>\n",
       "      <td>0</td>\n",
       "    </tr>\n",
       "    <tr>\n",
       "      <th>...</th>\n",
       "      <td>...</td>\n",
       "      <td>...</td>\n",
       "      <td>...</td>\n",
       "      <td>...</td>\n",
       "      <td>...</td>\n",
       "      <td>...</td>\n",
       "      <td>...</td>\n",
       "      <td>...</td>\n",
       "      <td>...</td>\n",
       "      <td>...</td>\n",
       "      <td>...</td>\n",
       "    </tr>\n",
       "    <tr>\n",
       "      <th>49192</th>\n",
       "      <td>1.944481</td>\n",
       "      <td>5.545177</td>\n",
       "      <td>8.136226</td>\n",
       "      <td>2.639057</td>\n",
       "      <td>4.3</td>\n",
       "      <td>0.115726</td>\n",
       "      <td>-0.035060</td>\n",
       "      <td>0</td>\n",
       "      <td>1</td>\n",
       "      <td>0</td>\n",
       "      <td>1</td>\n",
       "    </tr>\n",
       "    <tr>\n",
       "      <th>49193</th>\n",
       "      <td>2.301585</td>\n",
       "      <td>5.493061</td>\n",
       "      <td>5.872118</td>\n",
       "      <td>2.079442</td>\n",
       "      <td>3.8</td>\n",
       "      <td>0.048436</td>\n",
       "      <td>-0.005483</td>\n",
       "      <td>0</td>\n",
       "      <td>1</td>\n",
       "      <td>0</td>\n",
       "      <td>1</td>\n",
       "    </tr>\n",
       "    <tr>\n",
       "      <th>49194</th>\n",
       "      <td>1.871802</td>\n",
       "      <td>4.248495</td>\n",
       "      <td>6.650279</td>\n",
       "      <td>0.693147</td>\n",
       "      <td>4.0</td>\n",
       "      <td>0.108420</td>\n",
       "      <td>0.048528</td>\n",
       "      <td>0</td>\n",
       "      <td>1</td>\n",
       "      <td>0</td>\n",
       "      <td>1</td>\n",
       "    </tr>\n",
       "    <tr>\n",
       "      <th>49195</th>\n",
       "      <td>2.350422</td>\n",
       "      <td>5.347108</td>\n",
       "      <td>8.261785</td>\n",
       "      <td>NaN</td>\n",
       "      <td>NaN</td>\n",
       "      <td>0.046832</td>\n",
       "      <td>0.025263</td>\n",
       "      <td>0</td>\n",
       "      <td>1</td>\n",
       "      <td>0</td>\n",
       "      <td>1</td>\n",
       "    </tr>\n",
       "    <tr>\n",
       "      <th>49196</th>\n",
       "      <td>1.944481</td>\n",
       "      <td>3.713572</td>\n",
       "      <td>7.122060</td>\n",
       "      <td>NaN</td>\n",
       "      <td>NaN</td>\n",
       "      <td>0.052451</td>\n",
       "      <td>0.044081</td>\n",
       "      <td>0</td>\n",
       "      <td>1</td>\n",
       "      <td>0</td>\n",
       "      <td>1</td>\n",
       "    </tr>\n",
       "  </tbody>\n",
       "</table>\n",
       "<p>49197 rows × 11 columns</p>\n",
       "</div>"
      ],
      "text/plain": [
       "          price     pages      size  customer_reviews  stars  abs_topic_1  \\\n",
       "0      2.301585  5.141664  5.517453          3.135494    4.9     0.159588   \n",
       "1      0.693147  5.552960  7.263330          4.382027    4.7     0.104866   \n",
       "2      2.289500  5.662960  8.638171          3.465736    4.2     0.188824   \n",
       "3      1.095273  3.583519  4.584967          1.791759    4.5     0.109612   \n",
       "4      1.790091  5.991465  6.472346          4.077537    3.6     0.073204   \n",
       "...         ...       ...       ...               ...    ...          ...   \n",
       "49192  1.944481  5.545177  8.136226          2.639057    4.3     0.115726   \n",
       "49193  2.301585  5.493061  5.872118          2.079442    3.8     0.048436   \n",
       "49194  1.871802  4.248495  6.650279          0.693147    4.0     0.108420   \n",
       "49195  2.350422  5.347108  8.261785               NaN    NaN     0.046832   \n",
       "49196  1.944481  3.713572  7.122060               NaN    NaN     0.052451   \n",
       "\n",
       "       abs_topic_2  dummy  text_to_speech_Enabled  x_ray_Enabled  \\\n",
       "0         0.062463      0                       1              0   \n",
       "1         0.050588      0                       1              1   \n",
       "2         0.109196      0                       1              0   \n",
       "3         0.073868      0                       1              0   \n",
       "4         0.026062      0                       1              0   \n",
       "...            ...    ...                     ...            ...   \n",
       "49192    -0.035060      0                       1              0   \n",
       "49193    -0.005483      0                       1              0   \n",
       "49194     0.048528      0                       1              0   \n",
       "49195     0.025263      0                       1              0   \n",
       "49196     0.044081      0                       1              0   \n",
       "\n",
       "       lending_Enabled  \n",
       "0                    1  \n",
       "1                    1  \n",
       "2                    0  \n",
       "3                    1  \n",
       "4                    0  \n",
       "...                ...  \n",
       "49192                1  \n",
       "49193                1  \n",
       "49194                1  \n",
       "49195                1  \n",
       "49196                1  \n",
       "\n",
       "[49197 rows x 11 columns]"
      ]
     },
     "execution_count": 92,
     "metadata": {},
     "output_type": "execute_result"
    }
   ],
   "source": [
    "df['price']=np.log(df['price'])\n",
    "df['pages']=np.log(df['pages'])\n",
    "df['size']=np.log(df['size'])\n",
    "df['customer_reviews']=np.log(df['customer_reviews'])\n",
    "df"
   ]
  },
  {
   "cell_type": "code",
   "execution_count": 101,
   "metadata": {},
   "outputs": [
    {
     "data": {
      "text/html": [
       "<div>\n",
       "<style scoped>\n",
       "    .dataframe tbody tr th:only-of-type {\n",
       "        vertical-align: middle;\n",
       "    }\n",
       "\n",
       "    .dataframe tbody tr th {\n",
       "        vertical-align: top;\n",
       "    }\n",
       "\n",
       "    .dataframe thead th {\n",
       "        text-align: right;\n",
       "    }\n",
       "</style>\n",
       "<table border=\"1\" class=\"dataframe\">\n",
       "  <thead>\n",
       "    <tr style=\"text-align: right;\">\n",
       "      <th></th>\n",
       "      <th>price</th>\n",
       "      <th>pages</th>\n",
       "      <th>size</th>\n",
       "      <th>customer_reviews</th>\n",
       "      <th>stars</th>\n",
       "      <th>abs_topic_1</th>\n",
       "      <th>abs_topic_2</th>\n",
       "      <th>dummy</th>\n",
       "      <th>text_to_speech_Enabled</th>\n",
       "      <th>x_ray_Enabled</th>\n",
       "      <th>lending_Enabled</th>\n",
       "    </tr>\n",
       "  </thead>\n",
       "  <tbody>\n",
       "    <tr>\n",
       "      <th>5558</th>\n",
       "      <td>1.607436</td>\n",
       "      <td>5.958425</td>\n",
       "      <td>6.765039</td>\n",
       "      <td>9.889541</td>\n",
       "      <td>4.6</td>\n",
       "      <td>0.073754</td>\n",
       "      <td>-0.048112</td>\n",
       "      <td>0</td>\n",
       "      <td>1</td>\n",
       "      <td>1</td>\n",
       "      <td>1</td>\n",
       "    </tr>\n",
       "    <tr>\n",
       "      <th>739</th>\n",
       "      <td>2.196113</td>\n",
       "      <td>6.073045</td>\n",
       "      <td>7.461066</td>\n",
       "      <td>9.671934</td>\n",
       "      <td>3.8</td>\n",
       "      <td>0.111177</td>\n",
       "      <td>-0.082398</td>\n",
       "      <td>0</td>\n",
       "      <td>1</td>\n",
       "      <td>1</td>\n",
       "      <td>0</td>\n",
       "    </tr>\n",
       "    <tr>\n",
       "      <th>2509</th>\n",
       "      <td>1.943049</td>\n",
       "      <td>5.966147</td>\n",
       "      <td>6.756932</td>\n",
       "      <td>9.532931</td>\n",
       "      <td>4.2</td>\n",
       "      <td>0.086894</td>\n",
       "      <td>-0.010923</td>\n",
       "      <td>0</td>\n",
       "      <td>1</td>\n",
       "      <td>1</td>\n",
       "      <td>1</td>\n",
       "    </tr>\n",
       "    <tr>\n",
       "      <th>7872</th>\n",
       "      <td>1.785070</td>\n",
       "      <td>5.998937</td>\n",
       "      <td>7.497762</td>\n",
       "      <td>9.487290</td>\n",
       "      <td>4.6</td>\n",
       "      <td>0.095836</td>\n",
       "      <td>-0.024749</td>\n",
       "      <td>0</td>\n",
       "      <td>1</td>\n",
       "      <td>1</td>\n",
       "      <td>1</td>\n",
       "    </tr>\n",
       "    <tr>\n",
       "      <th>3098</th>\n",
       "      <td>1.827770</td>\n",
       "      <td>5.968708</td>\n",
       "      <td>6.825460</td>\n",
       "      <td>9.487290</td>\n",
       "      <td>4.6</td>\n",
       "      <td>0.033436</td>\n",
       "      <td>-0.016979</td>\n",
       "      <td>0</td>\n",
       "      <td>1</td>\n",
       "      <td>1</td>\n",
       "      <td>1</td>\n",
       "    </tr>\n",
       "    <tr>\n",
       "      <th>...</th>\n",
       "      <td>...</td>\n",
       "      <td>...</td>\n",
       "      <td>...</td>\n",
       "      <td>...</td>\n",
       "      <td>...</td>\n",
       "      <td>...</td>\n",
       "      <td>...</td>\n",
       "      <td>...</td>\n",
       "      <td>...</td>\n",
       "      <td>...</td>\n",
       "      <td>...</td>\n",
       "    </tr>\n",
       "    <tr>\n",
       "      <th>49176</th>\n",
       "      <td>1.095273</td>\n",
       "      <td>2.944439</td>\n",
       "      <td>5.081404</td>\n",
       "      <td>NaN</td>\n",
       "      <td>NaN</td>\n",
       "      <td>0.116102</td>\n",
       "      <td>0.002435</td>\n",
       "      <td>0</td>\n",
       "      <td>1</td>\n",
       "      <td>0</td>\n",
       "      <td>1</td>\n",
       "    </tr>\n",
       "    <tr>\n",
       "      <th>49177</th>\n",
       "      <td>-0.010050</td>\n",
       "      <td>2.639057</td>\n",
       "      <td>4.634729</td>\n",
       "      <td>NaN</td>\n",
       "      <td>NaN</td>\n",
       "      <td>0.068101</td>\n",
       "      <td>0.004310</td>\n",
       "      <td>0</td>\n",
       "      <td>1</td>\n",
       "      <td>0</td>\n",
       "      <td>0</td>\n",
       "    </tr>\n",
       "    <tr>\n",
       "      <th>49186</th>\n",
       "      <td>3.760968</td>\n",
       "      <td>5.874931</td>\n",
       "      <td>8.770750</td>\n",
       "      <td>NaN</td>\n",
       "      <td>NaN</td>\n",
       "      <td>0.162744</td>\n",
       "      <td>0.102132</td>\n",
       "      <td>0</td>\n",
       "      <td>1</td>\n",
       "      <td>0</td>\n",
       "      <td>1</td>\n",
       "    </tr>\n",
       "    <tr>\n",
       "      <th>49195</th>\n",
       "      <td>2.350422</td>\n",
       "      <td>5.347108</td>\n",
       "      <td>8.261785</td>\n",
       "      <td>NaN</td>\n",
       "      <td>NaN</td>\n",
       "      <td>0.046832</td>\n",
       "      <td>0.025263</td>\n",
       "      <td>0</td>\n",
       "      <td>1</td>\n",
       "      <td>0</td>\n",
       "      <td>1</td>\n",
       "    </tr>\n",
       "    <tr>\n",
       "      <th>49196</th>\n",
       "      <td>1.944481</td>\n",
       "      <td>3.713572</td>\n",
       "      <td>7.122060</td>\n",
       "      <td>NaN</td>\n",
       "      <td>NaN</td>\n",
       "      <td>0.052451</td>\n",
       "      <td>0.044081</td>\n",
       "      <td>0</td>\n",
       "      <td>1</td>\n",
       "      <td>0</td>\n",
       "      <td>1</td>\n",
       "    </tr>\n",
       "  </tbody>\n",
       "</table>\n",
       "<p>49197 rows × 11 columns</p>\n",
       "</div>"
      ],
      "text/plain": [
       "          price     pages      size  customer_reviews  stars  abs_topic_1  \\\n",
       "5558   1.607436  5.958425  6.765039          9.889541    4.6     0.073754   \n",
       "739    2.196113  6.073045  7.461066          9.671934    3.8     0.111177   \n",
       "2509   1.943049  5.966147  6.756932          9.532931    4.2     0.086894   \n",
       "7872   1.785070  5.998937  7.497762          9.487290    4.6     0.095836   \n",
       "3098   1.827770  5.968708  6.825460          9.487290    4.6     0.033436   \n",
       "...         ...       ...       ...               ...    ...          ...   \n",
       "49176  1.095273  2.944439  5.081404               NaN    NaN     0.116102   \n",
       "49177 -0.010050  2.639057  4.634729               NaN    NaN     0.068101   \n",
       "49186  3.760968  5.874931  8.770750               NaN    NaN     0.162744   \n",
       "49195  2.350422  5.347108  8.261785               NaN    NaN     0.046832   \n",
       "49196  1.944481  3.713572  7.122060               NaN    NaN     0.052451   \n",
       "\n",
       "       abs_topic_2  dummy  text_to_speech_Enabled  x_ray_Enabled  \\\n",
       "5558     -0.048112      0                       1              1   \n",
       "739      -0.082398      0                       1              1   \n",
       "2509     -0.010923      0                       1              1   \n",
       "7872     -0.024749      0                       1              1   \n",
       "3098     -0.016979      0                       1              1   \n",
       "...            ...    ...                     ...            ...   \n",
       "49176     0.002435      0                       1              0   \n",
       "49177     0.004310      0                       1              0   \n",
       "49186     0.102132      0                       1              0   \n",
       "49195     0.025263      0                       1              0   \n",
       "49196     0.044081      0                       1              0   \n",
       "\n",
       "       lending_Enabled  \n",
       "5558                 1  \n",
       "739                  0  \n",
       "2509                 1  \n",
       "7872                 1  \n",
       "3098                 1  \n",
       "...                ...  \n",
       "49176                1  \n",
       "49177                0  \n",
       "49186                1  \n",
       "49195                1  \n",
       "49196                1  \n",
       "\n",
       "[49197 rows x 11 columns]"
      ]
     },
     "execution_count": 101,
     "metadata": {},
     "output_type": "execute_result"
    }
   ],
   "source": [
    "df1 = df.sort_values(by='customer_reviews', ascending=False)\n",
    "df1"
   ]
  },
  {
   "cell_type": "code",
   "execution_count": 128,
   "metadata": {},
   "outputs": [
    {
     "data": {
      "text/html": [
       "<div>\n",
       "<style scoped>\n",
       "    .dataframe tbody tr th:only-of-type {\n",
       "        vertical-align: middle;\n",
       "    }\n",
       "\n",
       "    .dataframe tbody tr th {\n",
       "        vertical-align: top;\n",
       "    }\n",
       "\n",
       "    .dataframe thead th {\n",
       "        text-align: right;\n",
       "    }\n",
       "</style>\n",
       "<table border=\"1\" class=\"dataframe\">\n",
       "  <thead>\n",
       "    <tr style=\"text-align: right;\">\n",
       "      <th></th>\n",
       "      <th>price</th>\n",
       "      <th>pages</th>\n",
       "      <th>size</th>\n",
       "      <th>customer_reviews</th>\n",
       "      <th>stars</th>\n",
       "      <th>abs_topic_1</th>\n",
       "      <th>abs_topic_2</th>\n",
       "      <th>dummy</th>\n",
       "      <th>text_to_speech_Enabled</th>\n",
       "      <th>x_ray_Enabled</th>\n",
       "      <th>lending_Enabled</th>\n",
       "    </tr>\n",
       "  </thead>\n",
       "  <tbody>\n",
       "    <tr>\n",
       "      <th>0</th>\n",
       "      <td>2.301585</td>\n",
       "      <td>5.141664</td>\n",
       "      <td>5.517453</td>\n",
       "      <td>3.135494</td>\n",
       "      <td>4.9</td>\n",
       "      <td>0.159588</td>\n",
       "      <td>0.062463</td>\n",
       "      <td>0</td>\n",
       "      <td>1</td>\n",
       "      <td>0</td>\n",
       "      <td>1</td>\n",
       "    </tr>\n",
       "    <tr>\n",
       "      <th>1</th>\n",
       "      <td>0.693147</td>\n",
       "      <td>5.552960</td>\n",
       "      <td>7.263330</td>\n",
       "      <td>4.382027</td>\n",
       "      <td>4.7</td>\n",
       "      <td>0.104866</td>\n",
       "      <td>0.050588</td>\n",
       "      <td>0</td>\n",
       "      <td>1</td>\n",
       "      <td>1</td>\n",
       "      <td>1</td>\n",
       "    </tr>\n",
       "    <tr>\n",
       "      <th>2</th>\n",
       "      <td>2.289500</td>\n",
       "      <td>5.662960</td>\n",
       "      <td>8.638171</td>\n",
       "      <td>3.465736</td>\n",
       "      <td>4.2</td>\n",
       "      <td>0.188824</td>\n",
       "      <td>0.109196</td>\n",
       "      <td>0</td>\n",
       "      <td>1</td>\n",
       "      <td>0</td>\n",
       "      <td>0</td>\n",
       "    </tr>\n",
       "    <tr>\n",
       "      <th>3</th>\n",
       "      <td>1.095273</td>\n",
       "      <td>3.583519</td>\n",
       "      <td>4.584967</td>\n",
       "      <td>1.791759</td>\n",
       "      <td>4.5</td>\n",
       "      <td>0.109612</td>\n",
       "      <td>0.073868</td>\n",
       "      <td>0</td>\n",
       "      <td>1</td>\n",
       "      <td>0</td>\n",
       "      <td>1</td>\n",
       "    </tr>\n",
       "    <tr>\n",
       "      <th>4</th>\n",
       "      <td>1.790091</td>\n",
       "      <td>5.991465</td>\n",
       "      <td>6.472346</td>\n",
       "      <td>4.077537</td>\n",
       "      <td>3.6</td>\n",
       "      <td>0.073204</td>\n",
       "      <td>0.026062</td>\n",
       "      <td>0</td>\n",
       "      <td>1</td>\n",
       "      <td>0</td>\n",
       "      <td>0</td>\n",
       "    </tr>\n",
       "    <tr>\n",
       "      <th>...</th>\n",
       "      <td>...</td>\n",
       "      <td>...</td>\n",
       "      <td>...</td>\n",
       "      <td>...</td>\n",
       "      <td>...</td>\n",
       "      <td>...</td>\n",
       "      <td>...</td>\n",
       "      <td>...</td>\n",
       "      <td>...</td>\n",
       "      <td>...</td>\n",
       "      <td>...</td>\n",
       "    </tr>\n",
       "    <tr>\n",
       "      <th>49192</th>\n",
       "      <td>1.944481</td>\n",
       "      <td>5.545177</td>\n",
       "      <td>8.136226</td>\n",
       "      <td>2.639057</td>\n",
       "      <td>4.3</td>\n",
       "      <td>0.115726</td>\n",
       "      <td>-0.035060</td>\n",
       "      <td>0</td>\n",
       "      <td>1</td>\n",
       "      <td>0</td>\n",
       "      <td>1</td>\n",
       "    </tr>\n",
       "    <tr>\n",
       "      <th>49193</th>\n",
       "      <td>2.301585</td>\n",
       "      <td>5.493061</td>\n",
       "      <td>5.872118</td>\n",
       "      <td>2.079442</td>\n",
       "      <td>3.8</td>\n",
       "      <td>0.048436</td>\n",
       "      <td>-0.005483</td>\n",
       "      <td>0</td>\n",
       "      <td>1</td>\n",
       "      <td>0</td>\n",
       "      <td>1</td>\n",
       "    </tr>\n",
       "    <tr>\n",
       "      <th>49194</th>\n",
       "      <td>1.871802</td>\n",
       "      <td>4.248495</td>\n",
       "      <td>6.650279</td>\n",
       "      <td>0.693147</td>\n",
       "      <td>4.0</td>\n",
       "      <td>0.108420</td>\n",
       "      <td>0.048528</td>\n",
       "      <td>0</td>\n",
       "      <td>1</td>\n",
       "      <td>0</td>\n",
       "      <td>1</td>\n",
       "    </tr>\n",
       "    <tr>\n",
       "      <th>49195</th>\n",
       "      <td>2.350422</td>\n",
       "      <td>5.347108</td>\n",
       "      <td>8.261785</td>\n",
       "      <td>NaN</td>\n",
       "      <td>NaN</td>\n",
       "      <td>0.046832</td>\n",
       "      <td>0.025263</td>\n",
       "      <td>0</td>\n",
       "      <td>1</td>\n",
       "      <td>0</td>\n",
       "      <td>1</td>\n",
       "    </tr>\n",
       "    <tr>\n",
       "      <th>49196</th>\n",
       "      <td>1.944481</td>\n",
       "      <td>3.713572</td>\n",
       "      <td>7.122060</td>\n",
       "      <td>NaN</td>\n",
       "      <td>NaN</td>\n",
       "      <td>0.052451</td>\n",
       "      <td>0.044081</td>\n",
       "      <td>0</td>\n",
       "      <td>1</td>\n",
       "      <td>0</td>\n",
       "      <td>1</td>\n",
       "    </tr>\n",
       "  </tbody>\n",
       "</table>\n",
       "<p>49197 rows × 11 columns</p>\n",
       "</div>"
      ],
      "text/plain": [
       "          price     pages      size  customer_reviews  stars  abs_topic_1  \\\n",
       "0      2.301585  5.141664  5.517453          3.135494    4.9     0.159588   \n",
       "1      0.693147  5.552960  7.263330          4.382027    4.7     0.104866   \n",
       "2      2.289500  5.662960  8.638171          3.465736    4.2     0.188824   \n",
       "3      1.095273  3.583519  4.584967          1.791759    4.5     0.109612   \n",
       "4      1.790091  5.991465  6.472346          4.077537    3.6     0.073204   \n",
       "...         ...       ...       ...               ...    ...          ...   \n",
       "49192  1.944481  5.545177  8.136226          2.639057    4.3     0.115726   \n",
       "49193  2.301585  5.493061  5.872118          2.079442    3.8     0.048436   \n",
       "49194  1.871802  4.248495  6.650279          0.693147    4.0     0.108420   \n",
       "49195  2.350422  5.347108  8.261785               NaN    NaN     0.046832   \n",
       "49196  1.944481  3.713572  7.122060               NaN    NaN     0.052451   \n",
       "\n",
       "       abs_topic_2  dummy  text_to_speech_Enabled  x_ray_Enabled  \\\n",
       "0         0.062463      0                       1              0   \n",
       "1         0.050588      0                       1              1   \n",
       "2         0.109196      0                       1              0   \n",
       "3         0.073868      0                       1              0   \n",
       "4         0.026062      0                       1              0   \n",
       "...            ...    ...                     ...            ...   \n",
       "49192    -0.035060      0                       1              0   \n",
       "49193    -0.005483      0                       1              0   \n",
       "49194     0.048528      0                       1              0   \n",
       "49195     0.025263      0                       1              0   \n",
       "49196     0.044081      0                       1              0   \n",
       "\n",
       "       lending_Enabled  \n",
       "0                    1  \n",
       "1                    1  \n",
       "2                    0  \n",
       "3                    1  \n",
       "4                    0  \n",
       "...                ...  \n",
       "49192                1  \n",
       "49193                1  \n",
       "49194                1  \n",
       "49195                1  \n",
       "49196                1  \n",
       "\n",
       "[49197 rows x 11 columns]"
      ]
     },
     "execution_count": 128,
     "metadata": {},
     "output_type": "execute_result"
    }
   ],
   "source": [
    "df=df.replace([np.inf,-np.inf], np.nan)\n",
    "df"
   ]
  },
  {
   "cell_type": "code",
   "execution_count": 129,
   "metadata": {},
   "outputs": [
    {
     "name": "stdout",
     "output_type": "stream",
     "text": [
      "0\n",
      "0\n",
      "0\n",
      "0\n"
     ]
    }
   ],
   "source": [
    "print(len(np.isinf(df)[np.isinf(df)['price']==True]))\n",
    "print(len(np.isinf(df)[np.isinf(df)['pages']==True]))\n",
    "print(len(np.isinf(df)[np.isinf(df)['size']==True]))\n",
    "print(len(np.isinf(df)[np.isinf(df)['customer_reviews']==True]))"
   ]
  },
  {
   "cell_type": "code",
   "execution_count": 55,
   "metadata": {},
   "outputs": [
    {
     "data": {
      "text/plain": [
       "<AxesSubplot:>"
      ]
     },
     "execution_count": 55,
     "metadata": {},
     "output_type": "execute_result"
    },
    {
     "data": {
      "image/png": "[encoded data removed]",
      "text/plain": [
       "<Figure size 864x504 with 2 Axes>"
      ]
     },
     "metadata": {
      "needs_background": "light"
     },
     "output_type": "display_data"
    }
   ],
   "source": [
    "corr=df.corr()\n",
    "mask = np.zeros_like(corr)\n",
    "mask[np.triu_indices_from(mask)] = True\n",
    "plt.figure(figsize=(12,7))\n",
    "sns.heatmap(corr, mask = mask, annot=True, center=0, cmap=\"YlGnBu\")"
   ]
  },
  {
   "cell_type": "code",
   "execution_count": 130,
   "metadata": {},
   "outputs": [],
   "source": [
    "train,test = train_test_split(df, test_size=0.2,stratify = df['dummy'])\n",
    "X_cols = ['price', 'pages', 'size', 'customer_reviews', 'text_to_speech_Enabled', 'x_ray_Enabled', 'lending_Enabled','abs_topic_1','abs_topic_2']\n",
    "X_train, X_test = train[X_cols], test[X_cols]\n",
    "y_train, y_test = train['dummy'], test['dummy']\n",
    "num_cols = ['price', 'pages', 'size', 'customer_reviews','abs_topic_1','abs_topic_2']\n",
    "train_median = X_train[num_cols].median()\n",
    "X_train[num_cols]=X_train[num_cols].fillna(train_median)\n",
    "X_test[num_cols]=X_test[num_cols].fillna(train_median)"
   ]
  },
  {
   "cell_type": "code",
   "execution_count": 131,
   "metadata": {},
   "outputs": [
    {
     "name": "stdout",
     "output_type": "stream",
     "text": [
      "Regressão:  RandomForestClassifier\n",
      "Score:  0.9464430894308943\n",
      "ROC AUC:  0.9055360467714307\n",
      "================================================================================\n",
      "Regressão:  GaussianNB\n",
      "Score:  0.9158536585365854\n",
      "ROC AUC:  0.8883602070455052\n",
      "================================================================================\n",
      "Regressão:  LogisticRegression\n",
      "Score:  0.9471544715447154\n",
      "ROC AUC:  0.920193267297237\n",
      "================================================================================\n",
      "Regressão:  DecisionTreeClassifier\n",
      "Score:  0.9204268292682927\n",
      "ROC AUC:  0.6490373873538393\n",
      "================================================================================\n"
     ]
    }
   ],
   "source": [
    "regs = [RandomForestClassifier(),GaussianNB(),LogisticRegression(),DecisionTreeClassifier()]\n",
    "for reg in regs:\n",
    "    print(\"Regressão: \", reg.__class__.__name__)\n",
    "    reg = reg\n",
    "    reg.fit(X_train, y_train)\n",
    "    print(\"Score: \", reg.score(X_test, y_test))\n",
    "    y_proba_test = reg.predict_proba(X_test)\n",
    "    roc_test = roc_auc_score(y_test, y_proba_test[:, 1])\n",
    "    print(\"ROC AUC: \", roc_test)\n",
    "    print(\"=\"*80)"
   ]
  },
  {
   "cell_type": "code",
   "execution_count": 132,
   "metadata": {},
   "outputs": [
    {
     "data": {
      "text/html": [
       "<div>\n",
       "<style scoped>\n",
       "    .dataframe tbody tr th:only-of-type {\n",
       "        vertical-align: middle;\n",
       "    }\n",
       "\n",
       "    .dataframe tbody tr th {\n",
       "        vertical-align: top;\n",
       "    }\n",
       "\n",
       "    .dataframe thead th {\n",
       "        text-align: right;\n",
       "    }\n",
       "</style>\n",
       "<table border=\"1\" class=\"dataframe\">\n",
       "  <thead>\n",
       "    <tr style=\"text-align: right;\">\n",
       "      <th></th>\n",
       "      <th>column</th>\n",
       "      <th>relevance</th>\n",
       "    </tr>\n",
       "  </thead>\n",
       "  <tbody>\n",
       "    <tr>\n",
       "      <th>3</th>\n",
       "      <td>customer_reviews</td>\n",
       "      <td>0.286197</td>\n",
       "    </tr>\n",
       "    <tr>\n",
       "      <th>8</th>\n",
       "      <td>abs_topic_2</td>\n",
       "      <td>0.166150</td>\n",
       "    </tr>\n",
       "    <tr>\n",
       "      <th>7</th>\n",
       "      <td>abs_topic_1</td>\n",
       "      <td>0.156765</td>\n",
       "    </tr>\n",
       "    <tr>\n",
       "      <th>2</th>\n",
       "      <td>size</td>\n",
       "      <td>0.155216</td>\n",
       "    </tr>\n",
       "    <tr>\n",
       "      <th>1</th>\n",
       "      <td>pages</td>\n",
       "      <td>0.137783</td>\n",
       "    </tr>\n",
       "  </tbody>\n",
       "</table>\n",
       "</div>"
      ],
      "text/plain": [
       "             column  relevance\n",
       "3  customer_reviews   0.286197\n",
       "8       abs_topic_2   0.166150\n",
       "7       abs_topic_1   0.156765\n",
       "2              size   0.155216\n",
       "1             pages   0.137783"
      ]
     },
     "execution_count": 132,
     "metadata": {},
     "output_type": "execute_result"
    }
   ],
   "source": [
    "reg = DecisionTreeClassifier()\n",
    "reg.fit(X_train, y_train)\n",
    "clf=pd.DataFrame(list(zip(X_train.columns, reg.feature_importances_)), columns=['column', 'relevance'])\n",
    "clf.sort_values('relevance', ascending=False).head()"
   ]
  },
  {
   "cell_type": "code",
   "execution_count": 133,
   "metadata": {},
   "outputs": [
    {
     "data": {
      "text/html": [
       "<div>\n",
       "<style scoped>\n",
       "    .dataframe tbody tr th:only-of-type {\n",
       "        vertical-align: middle;\n",
       "    }\n",
       "\n",
       "    .dataframe tbody tr th {\n",
       "        vertical-align: top;\n",
       "    }\n",
       "\n",
       "    .dataframe thead th {\n",
       "        text-align: right;\n",
       "    }\n",
       "</style>\n",
       "<table border=\"1\" class=\"dataframe\">\n",
       "  <thead>\n",
       "    <tr style=\"text-align: right;\">\n",
       "      <th></th>\n",
       "      <th>column</th>\n",
       "      <th>relevance</th>\n",
       "    </tr>\n",
       "  </thead>\n",
       "  <tbody>\n",
       "    <tr>\n",
       "      <th>3</th>\n",
       "      <td>customer_reviews</td>\n",
       "      <td>0.282998</td>\n",
       "    </tr>\n",
       "    <tr>\n",
       "      <th>7</th>\n",
       "      <td>abs_topic_1</td>\n",
       "      <td>0.153230</td>\n",
       "    </tr>\n",
       "    <tr>\n",
       "      <th>8</th>\n",
       "      <td>abs_topic_2</td>\n",
       "      <td>0.152586</td>\n",
       "    </tr>\n",
       "    <tr>\n",
       "      <th>2</th>\n",
       "      <td>size</td>\n",
       "      <td>0.147685</td>\n",
       "    </tr>\n",
       "    <tr>\n",
       "      <th>1</th>\n",
       "      <td>pages</td>\n",
       "      <td>0.139685</td>\n",
       "    </tr>\n",
       "  </tbody>\n",
       "</table>\n",
       "</div>"
      ],
      "text/plain": [
       "             column  relevance\n",
       "3  customer_reviews   0.282998\n",
       "7       abs_topic_1   0.153230\n",
       "8       abs_topic_2   0.152586\n",
       "2              size   0.147685\n",
       "1             pages   0.139685"
      ]
     },
     "execution_count": 133,
     "metadata": {},
     "output_type": "execute_result"
    }
   ],
   "source": [
    "reg = RandomForestClassifier()\n",
    "reg.fit(X_train, y_train)\n",
    "clf=pd.DataFrame(list(zip(X_train.columns, reg.feature_importances_)), columns=['column', 'relevance'])\n",
    "clf.sort_values('relevance', ascending=False).head()"
   ]
  },
  {
   "cell_type": "code",
   "execution_count": 135,
   "metadata": {},
   "outputs": [
    {
     "name": "stdout",
     "output_type": "stream",
     "text": [
      "ROC AUC de Teste é DecisionTreeClassifier é 86.24%\n"
     ]
    },
    {
     "data": {
      "text/plain": [
       "[Text(558.0, 453.0, 'customer_reviews <= 1.242\\ngini = 0.111\\nsamples = 39357\\nvalue = [37036, 2321]'),\n",
       " Text(279.0, 271.8, 'customer_reviews <= 0.347\\ngini = 0.485\\nsamples = 3300\\nvalue = [1934, 1366]'),\n",
       " Text(139.5, 90.59999999999997, 'gini = 0.487\\nsamples = 1103\\nvalue = [464, 639]'),\n",
       " Text(418.5, 90.59999999999997, 'gini = 0.443\\nsamples = 2197\\nvalue = [1470, 727]'),\n",
       " Text(837.0, 271.8, 'customer_reviews <= 2.138\\ngini = 0.052\\nsamples = 36057\\nvalue = [35102, 955]'),\n",
       " Text(697.5, 90.59999999999997, 'gini = 0.229\\nsamples = 4531\\nvalue = [3933, 598]'),\n",
       " Text(976.5, 90.59999999999997, 'gini = 0.022\\nsamples = 31526\\nvalue = [31169, 357]')]"
      ]
     },
     "execution_count": 135,
     "metadata": {},
     "output_type": "execute_result"
    },
    {
     "data": {
      "image/png": "[encoded data removed]",
      "text/plain": [
       "<Figure size 1440x720 with 1 Axes>"
      ]
     },
     "metadata": {
      "needs_background": "light"
     },
     "output_type": "display_data"
    }
   ],
   "source": [
    "from sklearn import tree\n",
    "clf = DecisionTreeClassifier(max_depth=2)\n",
    "clf.fit(X_train, y_train) \n",
    "y_proba = clf.predict_proba(X_test)\n",
    "roc_auc=roc_auc_score(y_test, y_proba[:, 1])\n",
    "\n",
    "print(f'ROC AUC de Teste é {clf.__class__.__name__} é {roc_auc*100:.2f}%')\n",
    "\n",
    "plt.figure(figsize=(20,10))\n",
    "tree.plot_tree(clf,feature_names=X_train.columns,filled=True)"
   ]
  },
  {
   "cell_type": "code",
   "execution_count": 136,
   "metadata": {},
   "outputs": [
    {
     "name": "stdout",
     "output_type": "stream",
     "text": [
      "              precision    recall  f1-score   support\n",
      "\n",
      "           0       0.96      0.96      0.96      9260\n",
      "           1       0.33      0.33      0.33       580\n",
      "\n",
      "    accuracy                           0.92      9840\n",
      "   macro avg       0.64      0.64      0.64      9840\n",
      "weighted avg       0.92      0.92      0.92      9840\n",
      "\n"
     ]
    },
    {
     "data": {
      "image/png": "[encoded data removed]",
      "text/plain": [
       "<Figure size 432x288 with 2 Axes>"
      ]
     },
     "metadata": {
      "needs_background": "light"
     },
     "output_type": "display_data"
    }
   ],
   "source": [
    "reg = DecisionTreeClassifier()\n",
    "reg.fit(X_train, y_train)\n",
    "y_pred=reg.predict(X_test)\n",
    "cm=confusion_matrix(y_test, y_pred)\n",
    "sns.heatmap(cm, annot=True, fmt='g')\n",
    "plt.xlabel('Predição( 1 ou 0)')\n",
    "plt.ylabel('Real ( 1 ou 0)')\n",
    "print(classification_report(y_test, y_pred))"
   ]
  },
  {
   "cell_type": "code",
   "execution_count": 137,
   "metadata": {},
   "outputs": [
    {
     "name": "stdout",
     "output_type": "stream",
     "text": [
      "              precision    recall  f1-score   support\n",
      "\n",
      "           0       0.97      0.94      0.95      9260\n",
      "           1       0.36      0.53      0.43       580\n",
      "\n",
      "    accuracy                           0.92      9840\n",
      "   macro avg       0.66      0.74      0.69      9840\n",
      "weighted avg       0.93      0.92      0.92      9840\n",
      "\n"
     ]
    },
    {
     "data": {
      "image/png": "[encoded data removed]",
      "text/plain": [
       "<Figure size 432x288 with 2 Axes>"
      ]
     },
     "metadata": {
      "needs_background": "light"
     },
     "output_type": "display_data"
    }
   ],
   "source": [
    "reg = GaussianNB()\n",
    "reg.fit(X_train, y_train)\n",
    "y_pred=reg.predict(X_test)\n",
    "cm=confusion_matrix(y_test, y_pred)\n",
    "sns.heatmap(cm, annot=True, fmt='g')\n",
    "plt.xlabel('Predição( 1 ou 0)')\n",
    "plt.ylabel('Real ( 1 ou 0)')\n",
    "print(classification_report(y_test, y_pred))"
   ]
  },
  {
   "cell_type": "code",
   "execution_count": 139,
   "metadata": {},
   "outputs": [
    {
     "name": "stdout",
     "output_type": "stream",
     "text": [
      "              precision    recall  f1-score   support\n",
      "\n",
      "           0       0.96      0.99      0.97      9260\n",
      "           1       0.63      0.26      0.36       580\n",
      "\n",
      "    accuracy                           0.95      9840\n",
      "   macro avg       0.79      0.62      0.67      9840\n",
      "weighted avg       0.94      0.95      0.94      9840\n",
      "\n"
     ]
    },
    {
     "data": {
      "image/png": "[encoded data removed]",
      "text/plain": [
       "<Figure size 432x288 with 2 Axes>"
      ]
     },
     "metadata": {
      "needs_background": "light"
     },
     "output_type": "display_data"
    }
   ],
   "source": [
    "reg = LogisticRegression()\n",
    "reg.fit(X_train, y_train)\n",
    "y_pred=reg.predict(X_test)\n",
    "cm=confusion_matrix(y_test, y_pred)\n",
    "sns.heatmap(cm, annot=True, fmt='g')\n",
    "plt.xlabel('Predição( 1 ou 0)')\n",
    "plt.ylabel('Real ( 1 ou 0)')\n",
    "print(classification_report(y_test, y_pred))"
   ]
  },
  {
   "cell_type": "code",
   "execution_count": 138,
   "metadata": {},
   "outputs": [
    {
     "name": "stdout",
     "output_type": "stream",
     "text": [
      "              precision    recall  f1-score   support\n",
      "\n",
      "           0       0.95      0.99      0.97      9260\n",
      "           1       0.63      0.23      0.33       580\n",
      "\n",
      "    accuracy                           0.95      9840\n",
      "   macro avg       0.79      0.61      0.65      9840\n",
      "weighted avg       0.93      0.95      0.93      9840\n",
      "\n"
     ]
    },
    {
     "data": {
      "image/png": "[encoded data removed]",
      "text/plain": [
       "<Figure size 432x288 with 2 Axes>"
      ]
     },
     "metadata": {
      "needs_background": "light"
     },
     "output_type": "display_data"
    }
   ],
   "source": [
    "reg = RandomForestClassifier()\n",
    "reg.fit(X_train, y_train)\n",
    "y_pred=reg.predict(X_test)\n",
    "cm=confusion_matrix(y_test, y_pred)\n",
    "sns.heatmap(cm, annot=True, fmt='g')\n",
    "plt.xlabel('Predição( 1 ou 0)')\n",
    "plt.ylabel('Real ( 1 ou 0)')\n",
    "print(classification_report(y_test, y_pred))"
   ]
  },
  {
   "cell_type": "code",
   "execution_count": null,
   "metadata": {},
   "outputs": [],
   "source": [
    "=============================================================="
   ]
  }
 ],
 "metadata": {
  "kernelspec": {
   "display_name": "Python 3",
   "language": "python",
   "name": "python3"
  },
  "language_info": {
   "codemirror_mode": {
    "name": "ipython",
    "version": 3
   },
   "file_extension": ".py",
   "mimetype": "text/x-python",
   "name": "python",
   "nbconvert_exporter": "python",
   "pygments_lexer": "ipython3",
   "version": "3.8.5"
  }
 },
 "nbformat": 4,
 "nbformat_minor": 2
}
